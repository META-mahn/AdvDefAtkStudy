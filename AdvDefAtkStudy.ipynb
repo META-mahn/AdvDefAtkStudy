{
  "cells": [
    {
      "cell_type": "markdown",
      "metadata": {
        "id": "QtMrbdPtRbnM"
      },
      "source": [
        "# SETUP BLOCK - Just run it\n",
        "\n",
        "Format notes:\n",
        "*   `encoder` is an array of all numbers 0-9\n",
        "*   `x_train, y_train` is the training data\n",
        "*   `x_test, y_test` is the testing data -- this will most commonly be used\n",
        "*   `x_valid, y_valid` is the validation data\n",
        "\n"
      ]
    },
    {
      "cell_type": "code",
      "execution_count": null,
      "metadata": {
        "id": "tnF8JxbF2wSI",
        "colab": {
          "base_uri": "https://localhost:8080/"
        },
        "outputId": "c49de9e3-d306-4f59-8104-c5abfe784a05"
      },
      "outputs": [
        {
          "output_type": "stream",
          "name": "stdout",
          "text": [
            "Downloading data from https://storage.googleapis.com/tensorflow/tf-keras-datasets/mnist.npz\n",
            "\u001b[1m11490434/11490434\u001b[0m \u001b[32m━━━━━━━━━━━━━━━━━━━━\u001b[0m\u001b[37m\u001b[0m \u001b[1m2s\u001b[0m 0us/step\n"
          ]
        }
      ],
      "source": [
        "import tensorflow as tf\n",
        "import pandas as pd\n",
        "import numpy as np\n",
        "from tensorflow import keras\n",
        "from tensorflow.keras import layers\n",
        "from matplotlib import pyplot as plt\n",
        "from random import uniform\n",
        "\n",
        "(x_t, y_t), (x_st, y_st) = tf.keras.datasets.mnist.load_data() # Imports MNIST Dataset, automatically divides up the set itself"
      ]
    },
    {
      "cell_type": "code",
      "execution_count": null,
      "metadata": {
        "id": "NSPzcwnPY1NS"
      },
      "outputs": [],
      "source": [
        "from sklearn.metrics import confusion_matrix\n",
        "import itertools\n",
        "\n",
        "def make_confusion_matrix(y_true, y_pred, classes = None, figsize = (10, 10), text_size = 15):\n",
        "\n",
        "  # Create confusion matrix\n",
        "  cm = confusion_matrix(y_true, y_pred)\n",
        "  cm_norm = cm.astype(\"float\") / cm.sum(axis=1)[:, np.newaxis]\n",
        "  n_classes = cm.shape[0]\n",
        "\n",
        "  # Beautify\n",
        "  fig, ax = plt.subplots(figsize = figsize)\n",
        "  cax = ax.matshow(cm, cmap=plt.cm.Blues)\n",
        "  fig.colorbar(cax)\n",
        "\n",
        "  # Set labels to be classes\n",
        "  if classes:\n",
        "    labels = classes\n",
        "  else:\n",
        "    labels = np.arange(cm.shape[0])\n",
        "\n",
        "  ax.set(title = \"Confusion Matrix\",\n",
        "        xlabel = \"Predicted Label\",\n",
        "        ylabel = \"True Label\",\n",
        "        xticks = np.arange(n_classes),\n",
        "        yticks = np.arange(n_classes),\n",
        "        xticklabels = labels,\n",
        "        yticklabels = labels\n",
        "        )\n",
        "\n",
        "  # Set xlabels to bottom\n",
        "  ax.xaxis.set_label_position(\"bottom\")\n",
        "  ax.xaxis.tick_bottom()\n",
        "\n",
        "  # Lable Size\n",
        "  ax.yaxis.label.set_size(20)\n",
        "  ax.xaxis.label.set_size(20)\n",
        "  ax.title.set_size(20)\n",
        "\n",
        "  # Thresholding\n",
        "  threshold = (cm.max() + cm.min())/2\n",
        "\n",
        "  # Plot text on cells\n",
        "  for i, j in itertools.product(range(cm.shape[0]), range(cm.shape[1])):\n",
        "    plt.text(j, i, f\"{cm[i,j]} ({cm_norm[i,j]*100:.1f}%)\",\n",
        "            horizontalalignment = \"center\",\n",
        "            color = \"white\" if cm[i, j] > threshold else \"black\",\n",
        "            size = text_size\n",
        "            )"
      ]
    },
    {
      "cell_type": "code",
      "execution_count": null,
      "metadata": {
        "id": "s54Pm2YBE-CJ"
      },
      "outputs": [],
      "source": [
        "# Convert labels: One-Hot Encoded\n",
        "encoder = tf.one_hot(indices = [0, 1, 2, 3, 4, 5, 6, 7, 8, 9], depth = 10)\n",
        "out = []\n",
        "for val in y_st:\n",
        "  out.append(encoder[val])\n",
        "y_test = tf.convert_to_tensor(out)\n",
        "out = []\n",
        "for val in y_t:\n",
        "  out.append(encoder[val])\n",
        "y_train = tf.convert_to_tensor(out)"
      ]
    },
    {
      "cell_type": "code",
      "execution_count": null,
      "metadata": {
        "collapsed": true,
        "id": "rYeCkoHPEpJe"
      },
      "outputs": [],
      "source": [
        "x_train_expanded = tf.expand_dims(x_t, -1)\n",
        "x_train_bigger = tf.image.resize(x_train_expanded, (32, 32))\n",
        "x_train = tf.squeeze(x_train_bigger)/255.\n",
        "x_test_expanded = tf.expand_dims(x_st, -1)\n",
        "x_test_bigger = tf.image.resize(x_test_expanded, (32, 32))\n",
        "x_test = tf.squeeze(x_test_bigger)/255.\n",
        "\n",
        "#Split test for validation\n",
        "x_valid = x_test[-500:]\n",
        "y_valid = y_test[-500:]\n",
        "\n",
        "x_test = x_test[:-500]\n",
        "y_test = y_test[:-500]\n",
        "\n",
        "# Microset\n",
        "x_train_10percent = x_train[:int(len(x_train)/10)]\n",
        "y_train_10percent = y_train[:int(len(y_train)/10)]"
      ]
    },
    {
      "cell_type": "markdown",
      "metadata": {
        "id": "ilLo153kRiLf"
      },
      "source": [
        "# CREATE/SAVE CONTROL\n",
        "Trains EffNet B0 - Set Seed 23. Run once, ever."
      ]
    },
    {
      "cell_type": "code",
      "execution_count": null,
      "metadata": {
        "colab": {
          "base_uri": "https://localhost:8080/"
        },
        "id": "0RPkUenZ2-66",
        "outputId": "e52a974d-f2af-458c-c21b-f746dcf49383"
      },
      "outputs": [
        {
          "output_type": "stream",
          "name": "stdout",
          "text": [
            "Epoch 1/4\n",
            "\u001b[1m1875/1875\u001b[0m \u001b[32m━━━━━━━━━━━━━━━━━━━━\u001b[0m\u001b[37m\u001b[0m \u001b[1m96s\u001b[0m 21ms/step - accuracy: 0.8737 - loss: 0.4216 - val_accuracy: 0.4140 - val_loss: 2.1676\n",
            "Epoch 2/4\n",
            "\u001b[1m1875/1875\u001b[0m \u001b[32m━━━━━━━━━━━━━━━━━━━━\u001b[0m\u001b[37m\u001b[0m \u001b[1m33s\u001b[0m 17ms/step - accuracy: 0.9713 - loss: 0.1085 - val_accuracy: 0.2820 - val_loss: 4.1703\n",
            "Epoch 3/4\n",
            "\u001b[1m1875/1875\u001b[0m \u001b[32m━━━━━━━━━━━━━━━━━━━━\u001b[0m\u001b[37m\u001b[0m \u001b[1m32s\u001b[0m 17ms/step - accuracy: 0.9776 - loss: 0.0835 - val_accuracy: 0.8740 - val_loss: 0.4098\n",
            "Epoch 4/4\n",
            "\u001b[1m1875/1875\u001b[0m \u001b[32m━━━━━━━━━━━━━━━━━━━━\u001b[0m\u001b[37m\u001b[0m \u001b[1m32s\u001b[0m 17ms/step - accuracy: 0.9829 - loss: 0.0635 - val_accuracy: 0.2820 - val_loss: 2.6457\n"
          ]
        }
      ],
      "source": [
        "# EffNet-B0 Model\n",
        "tf.random.set_seed(23)\n",
        "\n",
        "input_shape = (32, 32, 1)\n",
        "base_model = tf.keras.applications.EfficientNetB0(input_shape = (32, 32, 3), include_top=False)\n",
        "base_model.trainable = True\n",
        "\n",
        "inputs=layers.Input(shape=input_shape, name = \"Input_Layer\")\n",
        "x = base_model(inputs)\n",
        "x = layers.GlobalAveragePooling2D()(x)\n",
        "outputs = layers.Dense(10, activation = \"softmax\", name = \"output_layer\")(x)\n",
        "\n",
        "control = keras.Model(inputs, outputs)\n",
        "\n",
        "control.compile(loss = \"categorical_crossentropy\",\n",
        "                       optimizer = tf.keras.optimizers.Adam(),\n",
        "                       metrics = [\"accuracy\"])\n",
        "\n",
        "# Fit\n",
        "control_hist = control.fit(x_train_10percent, y_train_10percent,\n",
        "                           epochs = 4,\n",
        "                           validation_data = (x_valid, y_valid))"
      ]
    },
    {
      "cell_type": "code",
      "source": [
        "control_hist = control.fit(x_train, y_train,\n",
        "                           epochs = 4,\n",
        "                           validation_data = (x_valid, y_valid))"
      ],
      "metadata": {
        "colab": {
          "base_uri": "https://localhost:8080/"
        },
        "id": "eyhevtbq_8Oe",
        "outputId": "0bab445a-2a7f-4831-bb72-0cb2919bcfc2"
      },
      "execution_count": null,
      "outputs": [
        {
          "output_type": "stream",
          "name": "stdout",
          "text": [
            "Epoch 1/4\n",
            "\u001b[1m1875/1875\u001b[0m \u001b[32m━━━━━━━━━━━━━━━━━━━━\u001b[0m\u001b[37m\u001b[0m \u001b[1m31s\u001b[0m 17ms/step - accuracy: 0.9852 - loss: 0.0539 - val_accuracy: 0.3420 - val_loss: 4.1269\n",
            "Epoch 2/4\n",
            "\u001b[1m1875/1875\u001b[0m \u001b[32m━━━━━━━━━━━━━━━━━━━━\u001b[0m\u001b[37m\u001b[0m \u001b[1m32s\u001b[0m 17ms/step - accuracy: 0.9866 - loss: 0.0529 - val_accuracy: 0.9120 - val_loss: 0.2999\n",
            "Epoch 3/4\n",
            "\u001b[1m1875/1875\u001b[0m \u001b[32m━━━━━━━━━━━━━━━━━━━━\u001b[0m\u001b[37m\u001b[0m \u001b[1m33s\u001b[0m 17ms/step - accuracy: 0.9890 - loss: 0.0394 - val_accuracy: 0.8980 - val_loss: 0.3456\n",
            "Epoch 4/4\n",
            "\u001b[1m1875/1875\u001b[0m \u001b[32m━━━━━━━━━━━━━━━━━━━━\u001b[0m\u001b[37m\u001b[0m \u001b[1m32s\u001b[0m 17ms/step - accuracy: 0.9897 - loss: 0.0390 - val_accuracy: 0.8480 - val_loss: 0.5185\n"
          ]
        }
      ]
    },
    {
      "cell_type": "code",
      "execution_count": null,
      "metadata": {
        "id": "RjwXD8TaSR9D"
      },
      "outputs": [],
      "source": [
        "control.save(\"/content/drive/MyDrive/ECE570_PROJECT/control_DEF.keras\", overwrite=True)"
      ]
    },
    {
      "cell_type": "markdown",
      "metadata": {
        "id": "jBCVchHwSCdj"
      },
      "source": [
        "# LOAD CONTROL MODEL\n",
        "Loads pretrained EffNet B0."
      ]
    },
    {
      "cell_type": "code",
      "execution_count": null,
      "metadata": {
        "id": "YB5ScjC6Y-rY"
      },
      "outputs": [],
      "source": [
        "control = tf.keras.models.load_model(\"/content/drive/MyDrive/ECE570_PROJECT/control_DEF.keras\", )"
      ]
    },
    {
      "cell_type": "code",
      "source": [
        "control.evaluate(x_test, y_test)"
      ],
      "metadata": {
        "colab": {
          "base_uri": "https://localhost:8080/"
        },
        "id": "nTtxEHun5qhV",
        "outputId": "0efc10c4-c9ce-4ccb-e2b4-e0b326bc675b"
      },
      "execution_count": null,
      "outputs": [
        {
          "output_type": "stream",
          "name": "stdout",
          "text": [
            "\u001b[1m297/297\u001b[0m \u001b[32m━━━━━━━━━━━━━━━━━━━━\u001b[0m\u001b[37m\u001b[0m \u001b[1m16s\u001b[0m 20ms/step - accuracy: 0.9251 - loss: 0.2779\n"
          ]
        },
        {
          "output_type": "execute_result",
          "data": {
            "text/plain": [
              "[0.26047950983047485, 0.9308421015739441]"
            ]
          },
          "metadata": {},
          "execution_count": 6
        }
      ]
    },
    {
      "cell_type": "markdown",
      "metadata": {
        "id": "MlL-2QuEVuug"
      },
      "source": [
        "# GNA Creation\n",
        "\n",
        "Applies Gaussian noise to input, then pipes out the output immediately.\n",
        "\n",
        "For GNA, the hostile element will be `x_gna`\n",
        "Currently the corruption level is e = 0.1.\n",
        "Because RNG is involved, set_seed = 23"
      ]
    },
    {
      "cell_type": "code",
      "execution_count": null,
      "metadata": {
        "id": "w4NrjaRsVuNv"
      },
      "outputs": [],
      "source": [
        "tf.random.set_seed(23)\n",
        "x_temp = x_test\n",
        "e = 0.1\n",
        "gna = layers.GaussianNoise(e)\n",
        "x_gna = gna(x_temp, training=True)"
      ]
    },
    {
      "cell_type": "markdown",
      "metadata": {
        "id": "F55cT2260mxL"
      },
      "source": [
        "# GNA Test\n",
        "Results: Good. Small accuracy decrease, which isn't truly adversarial, but this would be unacceptable for a mail volume of 10,000 per shift.\n",
        "\n",
        "Consider that this is a 7% decrease. This means 700 packages more get lost per shift - 8hrs. Imagine if an important check or something got lost in the mail -- would you want to be that 7%? That would be around 2 people per 25 -- count the class! Two of these people would have a lost package!"
      ]
    },
    {
      "cell_type": "code",
      "execution_count": null,
      "metadata": {
        "colab": {
          "base_uri": "https://localhost:8080/",
          "height": 447
        },
        "id": "rDFrl5aQo-Q1",
        "outputId": "03b6dd62-4292-4682-bf23-64162e9efa78"
      },
      "outputs": [
        {
          "output_type": "execute_result",
          "data": {
            "text/plain": [
              "<matplotlib.image.AxesImage at 0x7c8c987b9300>"
            ]
          },
          "metadata": {},
          "execution_count": 19
        },
        {
          "output_type": "display_data",
          "data": {
            "text/plain": [
              "<Figure size 640x480 with 1 Axes>"
            ],
            "image/png": "[encoded data removed]"
          },
          "metadata": {}
        }
      ],
      "source": [
        "plt.imshow(x_gna[0])"
      ]
    },
    {
      "cell_type": "code",
      "execution_count": null,
      "metadata": {
        "colab": {
          "base_uri": "https://localhost:8080/"
        },
        "id": "_oMSXdUCrAHW",
        "outputId": "65a26c83-3010-44f9-ad24-cd883ad134e6"
      },
      "outputs": [
        {
          "output_type": "stream",
          "name": "stdout",
          "text": [
            "\u001b[1m297/297\u001b[0m \u001b[32m━━━━━━━━━━━━━━━━━━━━\u001b[0m\u001b[37m\u001b[0m \u001b[1m3s\u001b[0m 5ms/step - accuracy: 0.8650 - loss: 0.5114\n"
          ]
        },
        {
          "output_type": "execute_result",
          "data": {
            "text/plain": [
              "[0.4858303368091583, 0.8755789399147034]"
            ]
          },
          "metadata": {},
          "execution_count": 20
        }
      ],
      "source": [
        "control.evaluate(x_gna, y_test)"
      ]
    },
    {
      "cell_type": "code",
      "execution_count": null,
      "metadata": {
        "colab": {
          "base_uri": "https://localhost:8080/"
        },
        "id": "gDj8GGndrEWz",
        "outputId": "0c19bae3-40e3-4a93-95b6-52404cb8c2df"
      },
      "outputs": [
        {
          "output_type": "stream",
          "name": "stdout",
          "text": [
            "\u001b[1m297/297\u001b[0m \u001b[32m━━━━━━━━━━━━━━━━━━━━\u001b[0m\u001b[37m\u001b[0m \u001b[1m12s\u001b[0m 22ms/step\n"
          ]
        }
      ],
      "source": [
        "y_gna = control.predict(x_gna)\n",
        "y_gna = np.argmax(y_gna, axis=1)\n",
        "truelabels = np.argmax(y_test, axis=1)"
      ]
    },
    {
      "cell_type": "code",
      "execution_count": null,
      "metadata": {
        "colab": {
          "base_uri": "https://localhost:8080/",
          "height": 815
        },
        "id": "uPjihawzrdrJ",
        "outputId": "c125d60a-f708-4ea8-d7af-6f2e1bff4e6c"
      },
      "outputs": [
        {
          "output_type": "display_data",
          "data": {
            "text/plain": [
              "<Figure size 1000x1000 with 2 Axes>"
            ],
            "image/png": "[encoded data removed]"
          },
          "metadata": {}
        }
      ],
      "source": [
        "make_confusion_matrix(truelabels, y_gna, text_size = 6)"
      ]
    },
    {
      "cell_type": "markdown",
      "metadata": {
        "id": "iJY2WMqFbqhR"
      },
      "source": [
        "# SQUARE ATTACK SETUP\n",
        "\n",
        "Ideally run once, ever. Creates 100 Square Attack samples because 10,000 takes a REALLY long time.\n",
        "\n",
        "Notes:\n",
        "- Regular Square Attack may not get all images to be adversarial. This is expected.\n",
        "- Relaxed Square Attack (aka Square Attack Bad) removes the need for total disturbance delta to be within epsilon-norm.\n",
        "- Relaxed pretty much WILL get an image to be adversarial, but some images are more naturally resilient.\n",
        "- Actually very powerful, but the results seem to be a little obvious with Relaxed Square\n",
        "- Likely better when all color channels are available, as on grayscale MNIST Relaxed Square is very visible"
      ]
    },
    {
      "cell_type": "code",
      "execution_count": null,
      "metadata": {
        "id": "80qVhHVICP9a"
      },
      "outputs": [],
      "source": [
        "def squareSize(p_init, num_it, n_iters, img_size):\n",
        "  '''\n",
        "  Helper function for Square Attack based on the scheduler used by Andriuschenko.\n",
        "  Idea is to get a percentage of the square to change, and then change the closest whole integer\n",
        "  We'll actually calculate the square side length HERE instead of out in square_attack\n",
        "  '''\n",
        "  it = int(num_it / n_iters * 5000)\n",
        "\n",
        "  if 75 < it <= 250:\n",
        "      p = p_init / 2\n",
        "  elif 250 < it <= 500:\n",
        "      p = p_init / 4\n",
        "  elif 500 < it <= 1500:\n",
        "      p = p_init / 8\n",
        "  elif 1500 < it <= 3000:\n",
        "      p = p_init / 16\n",
        "  elif 3000 < it <= 5000:\n",
        "      p = p_init / 32\n",
        "  else:\n",
        "      p = p_init\n",
        "\n",
        "  lenSide = img_size[1]\n",
        "\n",
        "  h = np.ceil(lenSide*p)\n",
        "\n",
        "  return h\n",
        "\n",
        "def choose_adversarial(model, images, labels):\n",
        "  '''\n",
        "  Finds the second-highest accuracy label. Label is accepted in form of an integer.\n",
        "  '''\n",
        "  adv = labels.numpy()\n",
        "  labs = tf.argmax(labels, axis=1)\n",
        "  loss = float(\"inf\")\n",
        "  img = images\n",
        "  lab = labs\n",
        "\n",
        "  for i in range(10):\n",
        "    if i == lab:\n",
        "      continue\n",
        "    temp, dump = model.evaluate(img, tf.expand_dims(encoder[i], axis=0), verbose=None)\n",
        "    if temp < loss:\n",
        "      adv = encoder[i]\n",
        "      loss = temp\n",
        "  return tf.expand_dims(adv, axis=0)"
      ]
    },
    {
      "cell_type": "code",
      "execution_count": null,
      "metadata": {
        "id": "-N01wI-GylUD"
      },
      "outputs": [],
      "source": [
        "def p_LINF(e, h, w):\n",
        "  '''\n",
        "  Inputs:\n",
        "  e - Epsilon, maximal norm\n",
        "  h - window size\n",
        "  w - image size\n",
        "\n",
        "  Algorithm:\n",
        "  1. Randomly choose square region on the image\n",
        "  2. Perturb every pixel in the region by a uniform amount\n",
        "  3. Really, that's it\n",
        "  '''\n",
        "  # Choose a square\n",
        "  imgSize = w[1]\n",
        "  sqX = 0\n",
        "  sqY = 0\n",
        "  if imgSize != int(h):\n",
        "    sqX = tf.random.uniform((), 0, imgSize-h, dtype=tf.dtypes.int32)\n",
        "    sqY = tf.random.uniform((), 0, imgSize-h, dtype=tf.dtypes.int32)\n",
        "\n",
        "  # Perturbation magnitude\n",
        "  delta = np.zeros(w)\n",
        "  rho = tf.random.uniform((), -2, 2) #rho rho fight the math.power\n",
        "\n",
        "  # Perturb shape\n",
        "  H = int(h)\n",
        "  delta[0, sqX:sqX+H, sqY:sqY+H] = delta[0, sqX:sqX+H, sqY:sqY+H] + tf.math.sign(rho)*e*2\n",
        "\n",
        "  return tf.convert_to_tensor(delta, dtype=tf.float32)\n"
      ]
    },
    {
      "cell_type": "code",
      "execution_count": null,
      "metadata": {
        "id": "LKbqoGDTlvAp"
      },
      "outputs": [],
      "source": [
        "from tqdm import tqdm\n",
        "import gc\n",
        "def square_attack(model, image, img_size, label, epsilon = 0.25, iterations = 2500, p_init = 1.0, adv_bound = 0.6):\n",
        "  '''\n",
        "  Implements Square Attack from https://github.com/max-andr/square-attack/tree/master\n",
        "  Custom implementation, but borrows many utilities and functions from the code as it is essentially the same\n",
        "  Assumes we only have a single color channel.\n",
        "\n",
        "  Currently uses L-Inf norm as that seems like the easier one to implement naively, while L2-norm P seems like a terrible time.\n",
        "\n",
        "  model     - Target tf.Model\n",
        "  image     - Input image to be made adversarial wrt. Model -- assume it is square\n",
        "  label     - True Label as an integer. Making an image \"true label\" adversarial makes no sense, so this is used for choose_adversarial()\n",
        "  img_size  - Mostly as a convenience factor, insert as (width, height) but MNIST comes square typically\n",
        "  epsilon   - Max percentage perturbation on image allowed.\n",
        "  iterations- Max iterations allowed for Square Attack. We set 1k iters because paper typically acheives adversarial in mean:300 med:120 queries assuming well-set epsilons\n",
        "  p_init    - Initial square size percentage, defaults to 0.75 for something between speed and results\n",
        "  adv_bound - Minimum \"safe prediction\" bound.\n",
        "\n",
        "  Internal Use\n",
        "  y - Set as the lowest-loss label that isn't the true label.\n",
        "  All other numbers set because we want to mirror the original algorithm\n",
        "  '''\n",
        "\n",
        "  # Needs this\n",
        "  tf.random.set_seed(23)\n",
        "  x = image\n",
        "  N = iterations\n",
        "  y = choose_adversarial(model, image, label)\n",
        "  e = epsilon\n",
        "  w = img_size\n",
        "  f = model\n",
        "  delta = np.zeros(img_size)\n",
        "\n",
        "  loss, acc = model.evaluate(x, y, verbose = None)\n",
        "\n",
        "  for i in range(N):\n",
        "    # Obtain square size\n",
        "    h = squareSize(p_init, i, N, w)\n",
        "\n",
        "    # Obtain delta, x_hat\n",
        "    delta_hat = delta\n",
        "    perturb = p_LINF(e, h, w)\n",
        "    delta_hat = delta + perturb\n",
        "    norm_del = tf.norm(np.inf)\n",
        "    if norm_del > epsilon:\n",
        "      delta_hat = delta_hat*epsilon/norm_del\n",
        "    x_hat = x + delta_hat\n",
        "\n",
        "    # Normalize x_hat to [0.0, 1.0]\n",
        "    lowest = tf.minimum(tf.reduce_min(x_hat), 0)\n",
        "    x_hat = x_hat-lowest # All is now > 0\n",
        "    x_hat = (x_hat/tf.reduce_max(x_hat)) # All is now 0 - 1\n",
        "\n",
        "    # Update loss\n",
        "    loss_temp, acc = model.evaluate(x_hat, y, verbose = None)\n",
        "    if loss_temp < loss:\n",
        "      loss = loss_temp\n",
        "      delta = delta_hat\n",
        "    # Exit if all x are now adversarial - We'll set that threshold to 0.6 by default for more interesting results\n",
        "    if acc > adv_bound:\n",
        "      break\n",
        "\n",
        "  return x_hat\n",
        "\n",
        "def square_attack_wrong(model, image, img_size, label, epsilon = 0.01, iterations = 5000, p_init = 1.0, adv_bound = 0.6):\n",
        "  '''\n",
        "  Implements Square Attack from https://github.com/max-andr/square-attack/tree/master in the WRONG way.\n",
        "  Essentially, it relaxes the epsilon-bound. Otherwise similar.\n",
        "  '''\n",
        "\n",
        "  # Needs this\n",
        "  tf.random.set_seed(23)\n",
        "  x = image\n",
        "  x_hat = x\n",
        "  N = iterations\n",
        "  y = choose_adversarial(model, image, label)\n",
        "  e = epsilon\n",
        "  w = img_size\n",
        "  f = model\n",
        "  delta = np.zeros(img_size)\n",
        "\n",
        "  loss, acc = model.evaluate(x, y, verbose = None)\n",
        "\n",
        "  for i in range(N):\n",
        "    # Obtain square size\n",
        "    h = squareSize(p_init, i, N, w)\n",
        "\n",
        "    # Obtain delta, x_hat\n",
        "\n",
        "    x_hat = x + p_LINF(e, h, w)\n",
        "\n",
        "    # Normalize x_hat to true range\n",
        "    lowest = tf.minimum(tf.reduce_min(x_hat), 0)\n",
        "    x_hat = x_hat-lowest # All is now > 0\n",
        "    x_hat = (x_hat/tf.reduce_max(x_hat))\n",
        "\n",
        "    # Update loss\n",
        "    loss_temp, acc = model.evaluate(x_hat, y, verbose = None)\n",
        "    if loss_temp < loss:\n",
        "      loss = loss_temp\n",
        "      x = x_hat\n",
        "    # Exit if all x are now adversarial - We'll set that threshold to 0.6 by default for more interesting results\n",
        "    if acc > adv_bound:\n",
        "      break\n",
        "\n",
        "  return x_hat"
      ]
    },
    {
      "cell_type": "code",
      "execution_count": null,
      "metadata": {
        "colab": {
          "base_uri": "https://localhost:8080/",
          "height": 373
        },
        "id": "tFPI_u4W_lrR",
        "outputId": "4a07c3a2-5530-4d53-d1a8-e3d744889fcb",
        "collapsed": true
      },
      "outputs": [
        {
          "output_type": "stream",
          "name": "stderr",
          "text": [
            "[PLEASE WAIT: PREPARE SOME TEA]:   1%|          | 1/100 [03:42<6:07:07, 222.50s/it]\n"
          ]
        },
        {
          "output_type": "error",
          "ename": "KeyboardInterrupt",
          "evalue": "",
          "traceback": [
            "\u001b[0;31m---------------------------------------------------------------------------\u001b[0m",
            "\u001b[0;31mKeyboardInterrupt\u001b[0m                         Traceback (most recent call last)",
            "\u001b[0;32m<ipython-input-12-da4b9e132a9b>\u001b[0m in \u001b[0;36m<cell line: 10>\u001b[0;34m()\u001b[0m\n\u001b[1;32m      9\u001b[0m \u001b[0mx_Square\u001b[0m \u001b[0;34m=\u001b[0m \u001b[0mx_test\u001b[0m\u001b[0;34m[\u001b[0m\u001b[0mstart\u001b[0m\u001b[0;34m:\u001b[0m\u001b[0mend\u001b[0m\u001b[0;34m]\u001b[0m\u001b[0;34m.\u001b[0m\u001b[0mnumpy\u001b[0m\u001b[0;34m(\u001b[0m\u001b[0;34m)\u001b[0m\u001b[0;34m\u001b[0m\u001b[0;34m\u001b[0m\u001b[0m\n\u001b[1;32m     10\u001b[0m \u001b[0;32mfor\u001b[0m \u001b[0mi\u001b[0m \u001b[0;32min\u001b[0m \u001b[0mtqdm\u001b[0m\u001b[0;34m(\u001b[0m\u001b[0mrange\u001b[0m\u001b[0;34m(\u001b[0m\u001b[0mbatches\u001b[0m\u001b[0;34m)\u001b[0m\u001b[0;34m,\u001b[0m \u001b[0mdesc\u001b[0m \u001b[0;34m=\u001b[0m \u001b[0;34m\"[PLEASE WAIT: PREPARE SOME TEA]\"\u001b[0m\u001b[0;34m)\u001b[0m\u001b[0;34m:\u001b[0m\u001b[0;34m\u001b[0m\u001b[0;34m\u001b[0m\u001b[0m\n\u001b[0;32m---> 11\u001b[0;31m   \u001b[0mx_Square\u001b[0m\u001b[0;34m[\u001b[0m\u001b[0mi\u001b[0m\u001b[0;34m]\u001b[0m \u001b[0;34m=\u001b[0m \u001b[0msquare_attack\u001b[0m\u001b[0;34m(\u001b[0m\u001b[0mcontrol\u001b[0m\u001b[0;34m,\u001b[0m \u001b[0mtf\u001b[0m\u001b[0;34m.\u001b[0m\u001b[0mexpand_dims\u001b[0m\u001b[0;34m(\u001b[0m\u001b[0mx_Square\u001b[0m\u001b[0;34m[\u001b[0m\u001b[0mi\u001b[0m\u001b[0;34m]\u001b[0m\u001b[0;34m,\u001b[0m\u001b[0maxis\u001b[0m\u001b[0;34m=\u001b[0m\u001b[0;36m0\u001b[0m\u001b[0;34m)\u001b[0m\u001b[0;34m,\u001b[0m \u001b[0;34m(\u001b[0m\u001b[0;36m1\u001b[0m\u001b[0;34m,\u001b[0m \u001b[0;36m32\u001b[0m\u001b[0;34m,\u001b[0m \u001b[0;36m32\u001b[0m\u001b[0;34m)\u001b[0m\u001b[0;34m,\u001b[0m \u001b[0mtf\u001b[0m\u001b[0;34m.\u001b[0m\u001b[0mexpand_dims\u001b[0m\u001b[0;34m(\u001b[0m\u001b[0my_test\u001b[0m\u001b[0;34m[\u001b[0m\u001b[0mi\u001b[0m\u001b[0;34m+\u001b[0m\u001b[0mstart\u001b[0m\u001b[0;34m]\u001b[0m\u001b[0;34m,\u001b[0m\u001b[0maxis\u001b[0m\u001b[0;34m=\u001b[0m\u001b[0;36m0\u001b[0m\u001b[0;34m)\u001b[0m\u001b[0;34m)\u001b[0m\u001b[0;34m\u001b[0m\u001b[0;34m\u001b[0m\u001b[0m\n\u001b[0m\u001b[1;32m     12\u001b[0m \u001b[0;31m# And save!\u001b[0m\u001b[0;34m\u001b[0m\u001b[0;34m\u001b[0m\u001b[0m\n\u001b[1;32m     13\u001b[0m \u001b[0mnp\u001b[0m\u001b[0;34m.\u001b[0m\u001b[0msave\u001b[0m\u001b[0;34m(\u001b[0m\u001b[0;34m\"/content/drive/MyDrive/ECE570_PROJECT/squareAttack_images_true\"\u001b[0m\u001b[0;34m,\u001b[0m \u001b[0mx_Square\u001b[0m\u001b[0;34m)\u001b[0m\u001b[0;34m\u001b[0m\u001b[0;34m\u001b[0m\u001b[0m\n",
            "\u001b[0;32m<ipython-input-11-65e5f7ee523e>\u001b[0m in \u001b[0;36msquare_attack\u001b[0;34m(model, image, img_size, label, epsilon, iterations, p_init, adv_bound)\u001b[0m\n\u001b[1;32m     54\u001b[0m \u001b[0;34m\u001b[0m\u001b[0m\n\u001b[1;32m     55\u001b[0m     \u001b[0;31m# Update loss\u001b[0m\u001b[0;34m\u001b[0m\u001b[0;34m\u001b[0m\u001b[0m\n\u001b[0;32m---> 56\u001b[0;31m     \u001b[0mloss_temp\u001b[0m\u001b[0;34m,\u001b[0m \u001b[0macc\u001b[0m \u001b[0;34m=\u001b[0m \u001b[0mmodel\u001b[0m\u001b[0;34m.\u001b[0m\u001b[0mevaluate\u001b[0m\u001b[0;34m(\u001b[0m\u001b[0mx_hat\u001b[0m\u001b[0;34m,\u001b[0m \u001b[0my\u001b[0m\u001b[0;34m,\u001b[0m \u001b[0mverbose\u001b[0m \u001b[0;34m=\u001b[0m \u001b[0;32mNone\u001b[0m\u001b[0;34m)\u001b[0m\u001b[0;34m\u001b[0m\u001b[0;34m\u001b[0m\u001b[0m\n\u001b[0m\u001b[1;32m     57\u001b[0m     \u001b[0;32mif\u001b[0m \u001b[0mloss_temp\u001b[0m \u001b[0;34m<\u001b[0m \u001b[0mloss\u001b[0m\u001b[0;34m:\u001b[0m\u001b[0;34m\u001b[0m\u001b[0;34m\u001b[0m\u001b[0m\n\u001b[1;32m     58\u001b[0m       \u001b[0mloss\u001b[0m \u001b[0;34m=\u001b[0m \u001b[0mloss_temp\u001b[0m\u001b[0;34m\u001b[0m\u001b[0;34m\u001b[0m\u001b[0m\n",
            "\u001b[0;32m/usr/local/lib/python3.10/dist-packages/keras/src/utils/traceback_utils.py\u001b[0m in \u001b[0;36merror_handler\u001b[0;34m(*args, **kwargs)\u001b[0m\n\u001b[1;32m    115\u001b[0m         \u001b[0mfiltered_tb\u001b[0m \u001b[0;34m=\u001b[0m \u001b[0;32mNone\u001b[0m\u001b[0;34m\u001b[0m\u001b[0;34m\u001b[0m\u001b[0m\n\u001b[1;32m    116\u001b[0m         \u001b[0;32mtry\u001b[0m\u001b[0;34m:\u001b[0m\u001b[0;34m\u001b[0m\u001b[0;34m\u001b[0m\u001b[0m\n\u001b[0;32m--> 117\u001b[0;31m             \u001b[0;32mreturn\u001b[0m \u001b[0mfn\u001b[0m\u001b[0;34m(\u001b[0m\u001b[0;34m*\u001b[0m\u001b[0margs\u001b[0m\u001b[0;34m,\u001b[0m \u001b[0;34m**\u001b[0m\u001b[0mkwargs\u001b[0m\u001b[0;34m)\u001b[0m\u001b[0;34m\u001b[0m\u001b[0;34m\u001b[0m\u001b[0m\n\u001b[0m\u001b[1;32m    118\u001b[0m         \u001b[0;32mexcept\u001b[0m \u001b[0mException\u001b[0m \u001b[0;32mas\u001b[0m \u001b[0me\u001b[0m\u001b[0;34m:\u001b[0m\u001b[0;34m\u001b[0m\u001b[0;34m\u001b[0m\u001b[0m\n\u001b[1;32m    119\u001b[0m             \u001b[0mfiltered_tb\u001b[0m \u001b[0;34m=\u001b[0m \u001b[0m_process_traceback_frames\u001b[0m\u001b[0;34m(\u001b[0m\u001b[0me\u001b[0m\u001b[0;34m.\u001b[0m\u001b[0m__traceback__\u001b[0m\u001b[0;34m)\u001b[0m\u001b[0;34m\u001b[0m\u001b[0;34m\u001b[0m\u001b[0m\n",
            "\u001b[0;32m/usr/local/lib/python3.10/dist-packages/keras/src/backend/tensorflow/trainer.py\u001b[0m in \u001b[0;36mevaluate\u001b[0;34m(self, x, y, batch_size, verbose, sample_weight, steps, callbacks, return_dict, **kwargs)\u001b[0m\n\u001b[1;32m    425\u001b[0m         \u001b[0mself\u001b[0m\u001b[0;34m.\u001b[0m\u001b[0mreset_metrics\u001b[0m\u001b[0;34m(\u001b[0m\u001b[0;34m)\u001b[0m\u001b[0;34m\u001b[0m\u001b[0;34m\u001b[0m\u001b[0m\n\u001b[1;32m    426\u001b[0m         \u001b[0;32mwith\u001b[0m \u001b[0mepoch_iterator\u001b[0m\u001b[0;34m.\u001b[0m\u001b[0mcatch_stop_iteration\u001b[0m\u001b[0;34m(\u001b[0m\u001b[0;34m)\u001b[0m\u001b[0;34m:\u001b[0m\u001b[0;34m\u001b[0m\u001b[0;34m\u001b[0m\u001b[0m\n\u001b[0;32m--> 427\u001b[0;31m             \u001b[0;32mfor\u001b[0m \u001b[0mstep\u001b[0m\u001b[0;34m,\u001b[0m \u001b[0miterator\u001b[0m \u001b[0;32min\u001b[0m \u001b[0mepoch_iterator\u001b[0m\u001b[0;34m.\u001b[0m\u001b[0menumerate_epoch\u001b[0m\u001b[0;34m(\u001b[0m\u001b[0;34m)\u001b[0m\u001b[0;34m:\u001b[0m\u001b[0;34m\u001b[0m\u001b[0;34m\u001b[0m\u001b[0m\n\u001b[0m\u001b[1;32m    428\u001b[0m                 \u001b[0mcallbacks\u001b[0m\u001b[0;34m.\u001b[0m\u001b[0mon_test_batch_begin\u001b[0m\u001b[0;34m(\u001b[0m\u001b[0mstep\u001b[0m\u001b[0;34m)\u001b[0m\u001b[0;34m\u001b[0m\u001b[0;34m\u001b[0m\u001b[0m\n\u001b[1;32m    429\u001b[0m                 \u001b[0mlogs\u001b[0m \u001b[0;34m=\u001b[0m \u001b[0mself\u001b[0m\u001b[0;34m.\u001b[0m\u001b[0mtest_function\u001b[0m\u001b[0;34m(\u001b[0m\u001b[0miterator\u001b[0m\u001b[0;34m)\u001b[0m\u001b[0;34m\u001b[0m\u001b[0;34m\u001b[0m\u001b[0m\n",
            "\u001b[0;32m/usr/local/lib/python3.10/dist-packages/keras/src/backend/tensorflow/trainer.py\u001b[0m in \u001b[0;36menumerate_epoch\u001b[0;34m(self)\u001b[0m\n\u001b[1;32m    647\u001b[0m                 \u001b[0;32myield\u001b[0m \u001b[0mstep\u001b[0m\u001b[0;34m,\u001b[0m \u001b[0mself\u001b[0m\u001b[0;34m.\u001b[0m\u001b[0m_current_iterator\u001b[0m\u001b[0;34m\u001b[0m\u001b[0;34m\u001b[0m\u001b[0m\n\u001b[1;32m    648\u001b[0m         \u001b[0;32melse\u001b[0m\u001b[0;34m:\u001b[0m\u001b[0;34m\u001b[0m\u001b[0;34m\u001b[0m\u001b[0m\n\u001b[0;32m--> 649\u001b[0;31m             \u001b[0miterator\u001b[0m \u001b[0;34m=\u001b[0m \u001b[0miter\u001b[0m\u001b[0;34m(\u001b[0m\u001b[0mself\u001b[0m\u001b[0;34m.\u001b[0m\u001b[0m_distributed_dataset\u001b[0m\u001b[0;34m)\u001b[0m\u001b[0;34m\u001b[0m\u001b[0;34m\u001b[0m\u001b[0m\n\u001b[0m\u001b[1;32m    650\u001b[0m             \u001b[0;32mif\u001b[0m \u001b[0mself\u001b[0m\u001b[0;34m.\u001b[0m\u001b[0mnum_batches\u001b[0m\u001b[0;34m:\u001b[0m\u001b[0;34m\u001b[0m\u001b[0;34m\u001b[0m\u001b[0m\n\u001b[1;32m    651\u001b[0m                 for step in range(\n",
            "\u001b[0;32m/usr/local/lib/python3.10/dist-packages/tensorflow/python/data/ops/dataset_ops.py\u001b[0m in \u001b[0;36m__iter__\u001b[0;34m(self)\u001b[0m\n\u001b[1;32m    499\u001b[0m     \u001b[0;32mif\u001b[0m \u001b[0mcontext\u001b[0m\u001b[0;34m.\u001b[0m\u001b[0mexecuting_eagerly\u001b[0m\u001b[0;34m(\u001b[0m\u001b[0;34m)\u001b[0m \u001b[0;32mor\u001b[0m \u001b[0mops\u001b[0m\u001b[0;34m.\u001b[0m\u001b[0minside_function\u001b[0m\u001b[0;34m(\u001b[0m\u001b[0;34m)\u001b[0m\u001b[0;34m:\u001b[0m\u001b[0;34m\u001b[0m\u001b[0;34m\u001b[0m\u001b[0m\n\u001b[1;32m    500\u001b[0m       \u001b[0;32mwith\u001b[0m \u001b[0mops\u001b[0m\u001b[0;34m.\u001b[0m\u001b[0mcolocate_with\u001b[0m\u001b[0;34m(\u001b[0m\u001b[0mself\u001b[0m\u001b[0;34m.\u001b[0m\u001b[0m_variant_tensor\u001b[0m\u001b[0;34m)\u001b[0m\u001b[0;34m:\u001b[0m\u001b[0;34m\u001b[0m\u001b[0;34m\u001b[0m\u001b[0m\n\u001b[0;32m--> 501\u001b[0;31m         \u001b[0;32mreturn\u001b[0m \u001b[0miterator_ops\u001b[0m\u001b[0;34m.\u001b[0m\u001b[0mOwnedIterator\u001b[0m\u001b[0;34m(\u001b[0m\u001b[0mself\u001b[0m\u001b[0;34m)\u001b[0m\u001b[0;34m\u001b[0m\u001b[0;34m\u001b[0m\u001b[0m\n\u001b[0m\u001b[1;32m    502\u001b[0m     \u001b[0;32melse\u001b[0m\u001b[0;34m:\u001b[0m\u001b[0;34m\u001b[0m\u001b[0;34m\u001b[0m\u001b[0m\n\u001b[1;32m    503\u001b[0m       raise RuntimeError(\"`tf.data.Dataset` only supports Python-style \"\n",
            "\u001b[0;32m/usr/local/lib/python3.10/dist-packages/tensorflow/python/data/ops/iterator_ops.py\u001b[0m in \u001b[0;36m__init__\u001b[0;34m(self, dataset, components, element_spec)\u001b[0m\n\u001b[1;32m    707\u001b[0m             \u001b[0;34m\"When `dataset` is provided, `element_spec` and `components` must \"\u001b[0m\u001b[0;34m\u001b[0m\u001b[0;34m\u001b[0m\u001b[0m\n\u001b[1;32m    708\u001b[0m             \"not be specified.\")\n\u001b[0;32m--> 709\u001b[0;31m       \u001b[0mself\u001b[0m\u001b[0;34m.\u001b[0m\u001b[0m_create_iterator\u001b[0m\u001b[0;34m(\u001b[0m\u001b[0mdataset\u001b[0m\u001b[0;34m)\u001b[0m\u001b[0;34m\u001b[0m\u001b[0;34m\u001b[0m\u001b[0m\n\u001b[0m\u001b[1;32m    710\u001b[0m \u001b[0;34m\u001b[0m\u001b[0m\n\u001b[1;32m    711\u001b[0m     \u001b[0mself\u001b[0m\u001b[0;34m.\u001b[0m\u001b[0m_get_next_call_count\u001b[0m \u001b[0;34m=\u001b[0m \u001b[0;36m0\u001b[0m\u001b[0;34m\u001b[0m\u001b[0;34m\u001b[0m\u001b[0m\n",
            "\u001b[0;32m/usr/local/lib/python3.10/dist-packages/tensorflow/python/data/ops/iterator_ops.py\u001b[0m in \u001b[0;36m_create_iterator\u001b[0;34m(self, dataset)\u001b[0m\n\u001b[1;32m    746\u001b[0m             self._flat_output_types)\n\u001b[1;32m    747\u001b[0m         \u001b[0mself\u001b[0m\u001b[0;34m.\u001b[0m\u001b[0m_iterator_resource\u001b[0m\u001b[0;34m.\u001b[0m\u001b[0mop\u001b[0m\u001b[0;34m.\u001b[0m\u001b[0mexperimental_set_type\u001b[0m\u001b[0;34m(\u001b[0m\u001b[0mfulltype\u001b[0m\u001b[0;34m)\u001b[0m\u001b[0;34m\u001b[0m\u001b[0;34m\u001b[0m\u001b[0m\n\u001b[0;32m--> 748\u001b[0;31m       \u001b[0mgen_dataset_ops\u001b[0m\u001b[0;34m.\u001b[0m\u001b[0mmake_iterator\u001b[0m\u001b[0;34m(\u001b[0m\u001b[0mds_variant\u001b[0m\u001b[0;34m,\u001b[0m \u001b[0mself\u001b[0m\u001b[0;34m.\u001b[0m\u001b[0m_iterator_resource\u001b[0m\u001b[0;34m)\u001b[0m\u001b[0;34m\u001b[0m\u001b[0;34m\u001b[0m\u001b[0m\n\u001b[0m\u001b[1;32m    749\u001b[0m \u001b[0;34m\u001b[0m\u001b[0m\n\u001b[1;32m    750\u001b[0m   \u001b[0;32mdef\u001b[0m \u001b[0m__iter__\u001b[0m\u001b[0;34m(\u001b[0m\u001b[0mself\u001b[0m\u001b[0;34m)\u001b[0m\u001b[0;34m:\u001b[0m\u001b[0;34m\u001b[0m\u001b[0;34m\u001b[0m\u001b[0m\n",
            "\u001b[0;32m/usr/local/lib/python3.10/dist-packages/tensorflow/python/ops/gen_dataset_ops.py\u001b[0m in \u001b[0;36mmake_iterator\u001b[0;34m(dataset, iterator, name)\u001b[0m\n\u001b[1;32m   3476\u001b[0m   \u001b[0;32mif\u001b[0m \u001b[0mtld\u001b[0m\u001b[0;34m.\u001b[0m\u001b[0mis_eager\u001b[0m\u001b[0;34m:\u001b[0m\u001b[0;34m\u001b[0m\u001b[0;34m\u001b[0m\u001b[0m\n\u001b[1;32m   3477\u001b[0m     \u001b[0;32mtry\u001b[0m\u001b[0;34m:\u001b[0m\u001b[0;34m\u001b[0m\u001b[0;34m\u001b[0m\u001b[0m\n\u001b[0;32m-> 3478\u001b[0;31m       _result = pywrap_tfe.TFE_Py_FastPathExecute(\n\u001b[0m\u001b[1;32m   3479\u001b[0m         _ctx, \"MakeIterator\", name, dataset, iterator)\n\u001b[1;32m   3480\u001b[0m       \u001b[0;32mreturn\u001b[0m \u001b[0m_result\u001b[0m\u001b[0;34m\u001b[0m\u001b[0;34m\u001b[0m\u001b[0m\n",
            "\u001b[0;31mKeyboardInterrupt\u001b[0m: "
          ]
        }
      ],
      "source": [
        "from tqdm import tqdm\n",
        "import progressbar\n",
        "tf.random.set_seed(23) # Always 23\n",
        "\n",
        "start = 1\n",
        "end = start+100\n",
        "batchsize = 1\n",
        "batches = 100\n",
        "x_Square = x_test[start:end].numpy()\n",
        "for i in tqdm(range(batches), desc = \"[PLEASE WAIT: PREPARE SOME TEA]\"):\n",
        "  x_Square[i] = square_attack(control, tf.expand_dims(x_Square[i],axis=0), (1, 32, 32), tf.expand_dims(y_test[i+start],axis=0))\n",
        "# And save!\n",
        "np.save(\"/content/drive/MyDrive/ECE570_PROJECT/squareAttack_images_true\", x_Square)"
      ]
    },
    {
      "cell_type": "code",
      "execution_count": null,
      "metadata": {
        "colab": {
          "base_uri": "https://localhost:8080/",
          "height": 356
        },
        "id": "ZkEVOSoE6lBd",
        "outputId": "8f4c5578-1f5d-45d2-9061-c5a0c886cd66"
      },
      "outputs": [
        {
          "output_type": "stream",
          "name": "stderr",
          "text": [
            "[PLEASE WAIT: PREPARE SOME TEA]:   1%|          | 1/100 [00:06<11:08,  6.76s/it]\n"
          ]
        },
        {
          "output_type": "error",
          "ename": "KeyboardInterrupt",
          "evalue": "",
          "traceback": [
            "\u001b[0;31m---------------------------------------------------------------------------\u001b[0m",
            "\u001b[0;31mKeyboardInterrupt\u001b[0m                         Traceback (most recent call last)",
            "\u001b[0;32m<ipython-input-45-14206e9a939a>\u001b[0m in \u001b[0;36m<cell line: 6>\u001b[0;34m()\u001b[0m\n\u001b[1;32m      5\u001b[0m \u001b[0mx_Square\u001b[0m \u001b[0;34m=\u001b[0m \u001b[0mx_test\u001b[0m\u001b[0;34m[\u001b[0m\u001b[0mstart\u001b[0m\u001b[0;34m:\u001b[0m\u001b[0mend\u001b[0m\u001b[0;34m]\u001b[0m\u001b[0;34m.\u001b[0m\u001b[0mnumpy\u001b[0m\u001b[0;34m(\u001b[0m\u001b[0;34m)\u001b[0m\u001b[0;34m\u001b[0m\u001b[0;34m\u001b[0m\u001b[0m\n\u001b[1;32m      6\u001b[0m \u001b[0;32mfor\u001b[0m \u001b[0mi\u001b[0m \u001b[0;32min\u001b[0m \u001b[0mtqdm\u001b[0m\u001b[0;34m(\u001b[0m\u001b[0mrange\u001b[0m\u001b[0;34m(\u001b[0m\u001b[0mbatches\u001b[0m\u001b[0;34m)\u001b[0m\u001b[0;34m,\u001b[0m \u001b[0mdesc\u001b[0m \u001b[0;34m=\u001b[0m \u001b[0;34m\"[PLEASE WAIT: PREPARE SOME TEA]\"\u001b[0m\u001b[0;34m)\u001b[0m\u001b[0;34m:\u001b[0m\u001b[0;34m\u001b[0m\u001b[0;34m\u001b[0m\u001b[0m\n\u001b[0;32m----> 7\u001b[0;31m   \u001b[0mx_Square\u001b[0m\u001b[0;34m[\u001b[0m\u001b[0mi\u001b[0m\u001b[0;34m]\u001b[0m \u001b[0;34m=\u001b[0m \u001b[0msquare_attack_wrong\u001b[0m\u001b[0;34m(\u001b[0m\u001b[0mcontrol\u001b[0m\u001b[0;34m,\u001b[0m \u001b[0mtf\u001b[0m\u001b[0;34m.\u001b[0m\u001b[0mexpand_dims\u001b[0m\u001b[0;34m(\u001b[0m\u001b[0mx_Square\u001b[0m\u001b[0;34m[\u001b[0m\u001b[0mi\u001b[0m\u001b[0;34m]\u001b[0m\u001b[0;34m,\u001b[0m\u001b[0maxis\u001b[0m\u001b[0;34m=\u001b[0m\u001b[0;36m0\u001b[0m\u001b[0;34m)\u001b[0m\u001b[0;34m,\u001b[0m \u001b[0;34m(\u001b[0m\u001b[0;36m1\u001b[0m\u001b[0;34m,\u001b[0m \u001b[0;36m32\u001b[0m\u001b[0;34m,\u001b[0m \u001b[0;36m32\u001b[0m\u001b[0;34m)\u001b[0m\u001b[0;34m,\u001b[0m \u001b[0mtf\u001b[0m\u001b[0;34m.\u001b[0m\u001b[0mexpand_dims\u001b[0m\u001b[0;34m(\u001b[0m\u001b[0my_test\u001b[0m\u001b[0;34m[\u001b[0m\u001b[0mi\u001b[0m\u001b[0;34m+\u001b[0m\u001b[0mstart\u001b[0m\u001b[0;34m]\u001b[0m\u001b[0;34m,\u001b[0m\u001b[0maxis\u001b[0m\u001b[0;34m=\u001b[0m\u001b[0;36m0\u001b[0m\u001b[0;34m)\u001b[0m\u001b[0;34m)\u001b[0m\u001b[0;34m\u001b[0m\u001b[0;34m\u001b[0m\u001b[0m\n\u001b[0m\u001b[1;32m      8\u001b[0m \u001b[0mnp\u001b[0m\u001b[0;34m.\u001b[0m\u001b[0msave\u001b[0m\u001b[0;34m(\u001b[0m\u001b[0;34m\"/content/drive/MyDrive/ECE570_PROJECT/squareAttack_images_modded\"\u001b[0m\u001b[0;34m,\u001b[0m \u001b[0mx_Square\u001b[0m\u001b[0;34m)\u001b[0m\u001b[0;34m\u001b[0m\u001b[0;34m\u001b[0m\u001b[0m\n",
            "\u001b[0;32m<ipython-input-44-65e5f7ee523e>\u001b[0m in \u001b[0;36msquare_attack_wrong\u001b[0;34m(model, image, img_size, label, epsilon, iterations, p_init, adv_bound)\u001b[0m\n\u001b[1;32m     75\u001b[0m   \u001b[0mx_hat\u001b[0m \u001b[0;34m=\u001b[0m \u001b[0mx\u001b[0m\u001b[0;34m\u001b[0m\u001b[0;34m\u001b[0m\u001b[0m\n\u001b[1;32m     76\u001b[0m   \u001b[0mN\u001b[0m \u001b[0;34m=\u001b[0m \u001b[0miterations\u001b[0m\u001b[0;34m\u001b[0m\u001b[0;34m\u001b[0m\u001b[0m\n\u001b[0;32m---> 77\u001b[0;31m   \u001b[0my\u001b[0m \u001b[0;34m=\u001b[0m \u001b[0mchoose_adversarial\u001b[0m\u001b[0;34m(\u001b[0m\u001b[0mmodel\u001b[0m\u001b[0;34m,\u001b[0m \u001b[0mimage\u001b[0m\u001b[0;34m,\u001b[0m \u001b[0mlabel\u001b[0m\u001b[0;34m)\u001b[0m\u001b[0;34m\u001b[0m\u001b[0;34m\u001b[0m\u001b[0m\n\u001b[0m\u001b[1;32m     78\u001b[0m   \u001b[0me\u001b[0m \u001b[0;34m=\u001b[0m \u001b[0mepsilon\u001b[0m\u001b[0;34m\u001b[0m\u001b[0;34m\u001b[0m\u001b[0m\n\u001b[1;32m     79\u001b[0m   \u001b[0mw\u001b[0m \u001b[0;34m=\u001b[0m \u001b[0mimg_size\u001b[0m\u001b[0;34m\u001b[0m\u001b[0;34m\u001b[0m\u001b[0m\n",
            "\u001b[0;32m<ipython-input-42-02fec284a4de>\u001b[0m in \u001b[0;36mchoose_adversarial\u001b[0;34m(model, images, labels)\u001b[0m\n\u001b[1;32m     39\u001b[0m     \u001b[0;32mif\u001b[0m \u001b[0mi\u001b[0m \u001b[0;34m==\u001b[0m \u001b[0mlab\u001b[0m\u001b[0;34m:\u001b[0m\u001b[0;34m\u001b[0m\u001b[0;34m\u001b[0m\u001b[0m\n\u001b[1;32m     40\u001b[0m       \u001b[0;32mcontinue\u001b[0m\u001b[0;34m\u001b[0m\u001b[0;34m\u001b[0m\u001b[0m\n\u001b[0;32m---> 41\u001b[0;31m     \u001b[0mtemp\u001b[0m\u001b[0;34m,\u001b[0m \u001b[0mdump\u001b[0m \u001b[0;34m=\u001b[0m \u001b[0mmodel\u001b[0m\u001b[0;34m.\u001b[0m\u001b[0mevaluate\u001b[0m\u001b[0;34m(\u001b[0m\u001b[0mimg\u001b[0m\u001b[0;34m,\u001b[0m \u001b[0mtf\u001b[0m\u001b[0;34m.\u001b[0m\u001b[0mexpand_dims\u001b[0m\u001b[0;34m(\u001b[0m\u001b[0mencoder\u001b[0m\u001b[0;34m[\u001b[0m\u001b[0mi\u001b[0m\u001b[0;34m]\u001b[0m\u001b[0;34m,\u001b[0m \u001b[0maxis\u001b[0m\u001b[0;34m=\u001b[0m\u001b[0;36m0\u001b[0m\u001b[0;34m)\u001b[0m\u001b[0;34m,\u001b[0m \u001b[0mverbose\u001b[0m\u001b[0;34m=\u001b[0m\u001b[0;32mNone\u001b[0m\u001b[0;34m)\u001b[0m\u001b[0;34m\u001b[0m\u001b[0;34m\u001b[0m\u001b[0m\n\u001b[0m\u001b[1;32m     42\u001b[0m     \u001b[0;32mif\u001b[0m \u001b[0mtemp\u001b[0m \u001b[0;34m<\u001b[0m \u001b[0mloss\u001b[0m\u001b[0;34m:\u001b[0m\u001b[0;34m\u001b[0m\u001b[0;34m\u001b[0m\u001b[0m\n\u001b[1;32m     43\u001b[0m       \u001b[0madv\u001b[0m \u001b[0;34m=\u001b[0m \u001b[0mencoder\u001b[0m\u001b[0;34m[\u001b[0m\u001b[0mi\u001b[0m\u001b[0;34m]\u001b[0m\u001b[0;34m\u001b[0m\u001b[0;34m\u001b[0m\u001b[0m\n",
            "\u001b[0;32m/usr/local/lib/python3.10/dist-packages/keras/src/utils/traceback_utils.py\u001b[0m in \u001b[0;36merror_handler\u001b[0;34m(*args, **kwargs)\u001b[0m\n\u001b[1;32m    115\u001b[0m         \u001b[0mfiltered_tb\u001b[0m \u001b[0;34m=\u001b[0m \u001b[0;32mNone\u001b[0m\u001b[0;34m\u001b[0m\u001b[0;34m\u001b[0m\u001b[0m\n\u001b[1;32m    116\u001b[0m         \u001b[0;32mtry\u001b[0m\u001b[0;34m:\u001b[0m\u001b[0;34m\u001b[0m\u001b[0;34m\u001b[0m\u001b[0m\n\u001b[0;32m--> 117\u001b[0;31m             \u001b[0;32mreturn\u001b[0m \u001b[0mfn\u001b[0m\u001b[0;34m(\u001b[0m\u001b[0;34m*\u001b[0m\u001b[0margs\u001b[0m\u001b[0;34m,\u001b[0m \u001b[0;34m**\u001b[0m\u001b[0mkwargs\u001b[0m\u001b[0;34m)\u001b[0m\u001b[0;34m\u001b[0m\u001b[0;34m\u001b[0m\u001b[0m\n\u001b[0m\u001b[1;32m    118\u001b[0m         \u001b[0;32mexcept\u001b[0m \u001b[0mException\u001b[0m \u001b[0;32mas\u001b[0m \u001b[0me\u001b[0m\u001b[0;34m:\u001b[0m\u001b[0;34m\u001b[0m\u001b[0;34m\u001b[0m\u001b[0m\n\u001b[1;32m    119\u001b[0m             \u001b[0mfiltered_tb\u001b[0m \u001b[0;34m=\u001b[0m \u001b[0m_process_traceback_frames\u001b[0m\u001b[0;34m(\u001b[0m\u001b[0me\u001b[0m\u001b[0;34m.\u001b[0m\u001b[0m__traceback__\u001b[0m\u001b[0;34m)\u001b[0m\u001b[0;34m\u001b[0m\u001b[0;34m\u001b[0m\u001b[0m\n",
            "\u001b[0;32m/usr/local/lib/python3.10/dist-packages/keras/src/backend/tensorflow/trainer.py\u001b[0m in \u001b[0;36mevaluate\u001b[0;34m(self, x, y, batch_size, verbose, sample_weight, steps, callbacks, return_dict, **kwargs)\u001b[0m\n\u001b[1;32m    427\u001b[0m             \u001b[0;32mfor\u001b[0m \u001b[0mstep\u001b[0m\u001b[0;34m,\u001b[0m \u001b[0miterator\u001b[0m \u001b[0;32min\u001b[0m \u001b[0mepoch_iterator\u001b[0m\u001b[0;34m.\u001b[0m\u001b[0menumerate_epoch\u001b[0m\u001b[0;34m(\u001b[0m\u001b[0;34m)\u001b[0m\u001b[0;34m:\u001b[0m\u001b[0;34m\u001b[0m\u001b[0;34m\u001b[0m\u001b[0m\n\u001b[1;32m    428\u001b[0m                 \u001b[0mcallbacks\u001b[0m\u001b[0;34m.\u001b[0m\u001b[0mon_test_batch_begin\u001b[0m\u001b[0;34m(\u001b[0m\u001b[0mstep\u001b[0m\u001b[0;34m)\u001b[0m\u001b[0;34m\u001b[0m\u001b[0;34m\u001b[0m\u001b[0m\n\u001b[0;32m--> 429\u001b[0;31m                 \u001b[0mlogs\u001b[0m \u001b[0;34m=\u001b[0m \u001b[0mself\u001b[0m\u001b[0;34m.\u001b[0m\u001b[0mtest_function\u001b[0m\u001b[0;34m(\u001b[0m\u001b[0miterator\u001b[0m\u001b[0;34m)\u001b[0m\u001b[0;34m\u001b[0m\u001b[0;34m\u001b[0m\u001b[0m\n\u001b[0m\u001b[1;32m    430\u001b[0m                 \u001b[0mlogs\u001b[0m \u001b[0;34m=\u001b[0m \u001b[0mself\u001b[0m\u001b[0;34m.\u001b[0m\u001b[0m_pythonify_logs\u001b[0m\u001b[0;34m(\u001b[0m\u001b[0mlogs\u001b[0m\u001b[0;34m)\u001b[0m\u001b[0;34m\u001b[0m\u001b[0;34m\u001b[0m\u001b[0m\n\u001b[1;32m    431\u001b[0m                 \u001b[0mcallbacks\u001b[0m\u001b[0;34m.\u001b[0m\u001b[0mon_test_batch_end\u001b[0m\u001b[0;34m(\u001b[0m\u001b[0mstep\u001b[0m\u001b[0;34m,\u001b[0m \u001b[0mlogs\u001b[0m\u001b[0;34m)\u001b[0m\u001b[0;34m\u001b[0m\u001b[0;34m\u001b[0m\u001b[0m\n",
            "\u001b[0;32m/usr/local/lib/python3.10/dist-packages/tensorflow/python/util/traceback_utils.py\u001b[0m in \u001b[0;36merror_handler\u001b[0;34m(*args, **kwargs)\u001b[0m\n\u001b[1;32m    148\u001b[0m     \u001b[0mfiltered_tb\u001b[0m \u001b[0;34m=\u001b[0m \u001b[0;32mNone\u001b[0m\u001b[0;34m\u001b[0m\u001b[0;34m\u001b[0m\u001b[0m\n\u001b[1;32m    149\u001b[0m     \u001b[0;32mtry\u001b[0m\u001b[0;34m:\u001b[0m\u001b[0;34m\u001b[0m\u001b[0;34m\u001b[0m\u001b[0m\n\u001b[0;32m--> 150\u001b[0;31m       \u001b[0;32mreturn\u001b[0m \u001b[0mfn\u001b[0m\u001b[0;34m(\u001b[0m\u001b[0;34m*\u001b[0m\u001b[0margs\u001b[0m\u001b[0;34m,\u001b[0m \u001b[0;34m**\u001b[0m\u001b[0mkwargs\u001b[0m\u001b[0;34m)\u001b[0m\u001b[0;34m\u001b[0m\u001b[0;34m\u001b[0m\u001b[0m\n\u001b[0m\u001b[1;32m    151\u001b[0m     \u001b[0;32mexcept\u001b[0m \u001b[0mException\u001b[0m \u001b[0;32mas\u001b[0m \u001b[0me\u001b[0m\u001b[0;34m:\u001b[0m\u001b[0;34m\u001b[0m\u001b[0;34m\u001b[0m\u001b[0m\n\u001b[1;32m    152\u001b[0m       \u001b[0mfiltered_tb\u001b[0m \u001b[0;34m=\u001b[0m \u001b[0m_process_traceback_frames\u001b[0m\u001b[0;34m(\u001b[0m\u001b[0me\u001b[0m\u001b[0;34m.\u001b[0m\u001b[0m__traceback__\u001b[0m\u001b[0;34m)\u001b[0m\u001b[0;34m\u001b[0m\u001b[0;34m\u001b[0m\u001b[0m\n",
            "\u001b[0;32m/usr/local/lib/python3.10/dist-packages/tensorflow/python/eager/polymorphic_function/polymorphic_function.py\u001b[0m in \u001b[0;36m__call__\u001b[0;34m(self, *args, **kwds)\u001b[0m\n\u001b[1;32m    831\u001b[0m \u001b[0;34m\u001b[0m\u001b[0m\n\u001b[1;32m    832\u001b[0m       \u001b[0;32mwith\u001b[0m \u001b[0mOptionalXlaContext\u001b[0m\u001b[0;34m(\u001b[0m\u001b[0mself\u001b[0m\u001b[0;34m.\u001b[0m\u001b[0m_jit_compile\u001b[0m\u001b[0;34m)\u001b[0m\u001b[0;34m:\u001b[0m\u001b[0;34m\u001b[0m\u001b[0;34m\u001b[0m\u001b[0m\n\u001b[0;32m--> 833\u001b[0;31m         \u001b[0mresult\u001b[0m \u001b[0;34m=\u001b[0m \u001b[0mself\u001b[0m\u001b[0;34m.\u001b[0m\u001b[0m_call\u001b[0m\u001b[0;34m(\u001b[0m\u001b[0;34m*\u001b[0m\u001b[0margs\u001b[0m\u001b[0;34m,\u001b[0m \u001b[0;34m**\u001b[0m\u001b[0mkwds\u001b[0m\u001b[0;34m)\u001b[0m\u001b[0;34m\u001b[0m\u001b[0;34m\u001b[0m\u001b[0m\n\u001b[0m\u001b[1;32m    834\u001b[0m \u001b[0;34m\u001b[0m\u001b[0m\n\u001b[1;32m    835\u001b[0m       \u001b[0mnew_tracing_count\u001b[0m \u001b[0;34m=\u001b[0m \u001b[0mself\u001b[0m\u001b[0;34m.\u001b[0m\u001b[0mexperimental_get_tracing_count\u001b[0m\u001b[0;34m(\u001b[0m\u001b[0;34m)\u001b[0m\u001b[0;34m\u001b[0m\u001b[0;34m\u001b[0m\u001b[0m\n",
            "\u001b[0;32m/usr/local/lib/python3.10/dist-packages/tensorflow/python/eager/polymorphic_function/polymorphic_function.py\u001b[0m in \u001b[0;36m_call\u001b[0;34m(self, *args, **kwds)\u001b[0m\n\u001b[1;32m    876\u001b[0m       \u001b[0;31m# In this case we have not created variables on the first call. So we can\u001b[0m\u001b[0;34m\u001b[0m\u001b[0;34m\u001b[0m\u001b[0m\n\u001b[1;32m    877\u001b[0m       \u001b[0;31m# run the first trace but we should fail if variables are created.\u001b[0m\u001b[0;34m\u001b[0m\u001b[0;34m\u001b[0m\u001b[0m\n\u001b[0;32m--> 878\u001b[0;31m       results = tracing_compilation.call_function(\n\u001b[0m\u001b[1;32m    879\u001b[0m           \u001b[0margs\u001b[0m\u001b[0;34m,\u001b[0m \u001b[0mkwds\u001b[0m\u001b[0;34m,\u001b[0m \u001b[0mself\u001b[0m\u001b[0;34m.\u001b[0m\u001b[0m_variable_creation_config\u001b[0m\u001b[0;34m\u001b[0m\u001b[0;34m\u001b[0m\u001b[0m\n\u001b[1;32m    880\u001b[0m       )\n",
            "\u001b[0;32m/usr/local/lib/python3.10/dist-packages/tensorflow/python/eager/polymorphic_function/tracing_compilation.py\u001b[0m in \u001b[0;36mcall_function\u001b[0;34m(args, kwargs, tracing_options)\u001b[0m\n\u001b[1;32m    137\u001b[0m   \u001b[0mbound_args\u001b[0m \u001b[0;34m=\u001b[0m \u001b[0mfunction\u001b[0m\u001b[0;34m.\u001b[0m\u001b[0mfunction_type\u001b[0m\u001b[0;34m.\u001b[0m\u001b[0mbind\u001b[0m\u001b[0;34m(\u001b[0m\u001b[0;34m*\u001b[0m\u001b[0margs\u001b[0m\u001b[0;34m,\u001b[0m \u001b[0;34m**\u001b[0m\u001b[0mkwargs\u001b[0m\u001b[0;34m)\u001b[0m\u001b[0;34m\u001b[0m\u001b[0;34m\u001b[0m\u001b[0m\n\u001b[1;32m    138\u001b[0m   \u001b[0mflat_inputs\u001b[0m \u001b[0;34m=\u001b[0m \u001b[0mfunction\u001b[0m\u001b[0;34m.\u001b[0m\u001b[0mfunction_type\u001b[0m\u001b[0;34m.\u001b[0m\u001b[0munpack_inputs\u001b[0m\u001b[0;34m(\u001b[0m\u001b[0mbound_args\u001b[0m\u001b[0;34m)\u001b[0m\u001b[0;34m\u001b[0m\u001b[0;34m\u001b[0m\u001b[0m\n\u001b[0;32m--> 139\u001b[0;31m   return function._call_flat(  # pylint: disable=protected-access\n\u001b[0m\u001b[1;32m    140\u001b[0m       \u001b[0mflat_inputs\u001b[0m\u001b[0;34m,\u001b[0m \u001b[0mcaptured_inputs\u001b[0m\u001b[0;34m=\u001b[0m\u001b[0mfunction\u001b[0m\u001b[0;34m.\u001b[0m\u001b[0mcaptured_inputs\u001b[0m\u001b[0;34m\u001b[0m\u001b[0;34m\u001b[0m\u001b[0m\n\u001b[1;32m    141\u001b[0m   )\n",
            "\u001b[0;32m/usr/local/lib/python3.10/dist-packages/tensorflow/python/eager/polymorphic_function/concrete_function.py\u001b[0m in \u001b[0;36m_call_flat\u001b[0;34m(self, tensor_inputs, captured_inputs)\u001b[0m\n\u001b[1;32m   1320\u001b[0m         and executing_eagerly):\n\u001b[1;32m   1321\u001b[0m       \u001b[0;31m# No tape is watching; skip to running the function.\u001b[0m\u001b[0;34m\u001b[0m\u001b[0;34m\u001b[0m\u001b[0m\n\u001b[0;32m-> 1322\u001b[0;31m       \u001b[0;32mreturn\u001b[0m \u001b[0mself\u001b[0m\u001b[0;34m.\u001b[0m\u001b[0m_inference_function\u001b[0m\u001b[0;34m.\u001b[0m\u001b[0mcall_preflattened\u001b[0m\u001b[0;34m(\u001b[0m\u001b[0margs\u001b[0m\u001b[0;34m)\u001b[0m\u001b[0;34m\u001b[0m\u001b[0;34m\u001b[0m\u001b[0m\n\u001b[0m\u001b[1;32m   1323\u001b[0m     forward_backward = self._select_forward_and_backward_functions(\n\u001b[1;32m   1324\u001b[0m         \u001b[0margs\u001b[0m\u001b[0;34m,\u001b[0m\u001b[0;34m\u001b[0m\u001b[0;34m\u001b[0m\u001b[0m\n",
            "\u001b[0;32m/usr/local/lib/python3.10/dist-packages/tensorflow/python/eager/polymorphic_function/atomic_function.py\u001b[0m in \u001b[0;36mcall_preflattened\u001b[0;34m(self, args)\u001b[0m\n\u001b[1;32m    214\u001b[0m   \u001b[0;32mdef\u001b[0m \u001b[0mcall_preflattened\u001b[0m\u001b[0;34m(\u001b[0m\u001b[0mself\u001b[0m\u001b[0;34m,\u001b[0m \u001b[0margs\u001b[0m\u001b[0;34m:\u001b[0m \u001b[0mSequence\u001b[0m\u001b[0;34m[\u001b[0m\u001b[0mcore\u001b[0m\u001b[0;34m.\u001b[0m\u001b[0mTensor\u001b[0m\u001b[0;34m]\u001b[0m\u001b[0;34m)\u001b[0m \u001b[0;34m->\u001b[0m \u001b[0mAny\u001b[0m\u001b[0;34m:\u001b[0m\u001b[0;34m\u001b[0m\u001b[0;34m\u001b[0m\u001b[0m\n\u001b[1;32m    215\u001b[0m     \u001b[0;34m\"\"\"Calls with flattened tensor inputs and returns the structured output.\"\"\"\u001b[0m\u001b[0;34m\u001b[0m\u001b[0;34m\u001b[0m\u001b[0m\n\u001b[0;32m--> 216\u001b[0;31m     \u001b[0mflat_outputs\u001b[0m \u001b[0;34m=\u001b[0m \u001b[0mself\u001b[0m\u001b[0;34m.\u001b[0m\u001b[0mcall_flat\u001b[0m\u001b[0;34m(\u001b[0m\u001b[0;34m*\u001b[0m\u001b[0margs\u001b[0m\u001b[0;34m)\u001b[0m\u001b[0;34m\u001b[0m\u001b[0;34m\u001b[0m\u001b[0m\n\u001b[0m\u001b[1;32m    217\u001b[0m     \u001b[0;32mreturn\u001b[0m \u001b[0mself\u001b[0m\u001b[0;34m.\u001b[0m\u001b[0mfunction_type\u001b[0m\u001b[0;34m.\u001b[0m\u001b[0mpack_output\u001b[0m\u001b[0;34m(\u001b[0m\u001b[0mflat_outputs\u001b[0m\u001b[0;34m)\u001b[0m\u001b[0;34m\u001b[0m\u001b[0;34m\u001b[0m\u001b[0m\n\u001b[1;32m    218\u001b[0m \u001b[0;34m\u001b[0m\u001b[0m\n",
            "\u001b[0;32m/usr/local/lib/python3.10/dist-packages/tensorflow/python/eager/polymorphic_function/atomic_function.py\u001b[0m in \u001b[0;36mcall_flat\u001b[0;34m(self, *args)\u001b[0m\n\u001b[1;32m    249\u001b[0m         \u001b[0;32mwith\u001b[0m \u001b[0mrecord\u001b[0m\u001b[0;34m.\u001b[0m\u001b[0mstop_recording\u001b[0m\u001b[0;34m(\u001b[0m\u001b[0;34m)\u001b[0m\u001b[0;34m:\u001b[0m\u001b[0;34m\u001b[0m\u001b[0;34m\u001b[0m\u001b[0m\n\u001b[1;32m    250\u001b[0m           \u001b[0;32mif\u001b[0m \u001b[0mself\u001b[0m\u001b[0;34m.\u001b[0m\u001b[0m_bound_context\u001b[0m\u001b[0;34m.\u001b[0m\u001b[0mexecuting_eagerly\u001b[0m\u001b[0;34m(\u001b[0m\u001b[0;34m)\u001b[0m\u001b[0;34m:\u001b[0m\u001b[0;34m\u001b[0m\u001b[0;34m\u001b[0m\u001b[0m\n\u001b[0;32m--> 251\u001b[0;31m             outputs = self._bound_context.call_function(\n\u001b[0m\u001b[1;32m    252\u001b[0m                 \u001b[0mself\u001b[0m\u001b[0;34m.\u001b[0m\u001b[0mname\u001b[0m\u001b[0;34m,\u001b[0m\u001b[0;34m\u001b[0m\u001b[0;34m\u001b[0m\u001b[0m\n\u001b[1;32m    253\u001b[0m                 \u001b[0mlist\u001b[0m\u001b[0;34m(\u001b[0m\u001b[0margs\u001b[0m\u001b[0;34m)\u001b[0m\u001b[0;34m,\u001b[0m\u001b[0;34m\u001b[0m\u001b[0;34m\u001b[0m\u001b[0m\n",
            "\u001b[0;32m/usr/local/lib/python3.10/dist-packages/tensorflow/python/eager/context.py\u001b[0m in \u001b[0;36mcall_function\u001b[0;34m(self, name, tensor_inputs, num_outputs)\u001b[0m\n\u001b[1;32m   1550\u001b[0m     \u001b[0mcancellation_context\u001b[0m \u001b[0;34m=\u001b[0m \u001b[0mcancellation\u001b[0m\u001b[0;34m.\u001b[0m\u001b[0mcontext\u001b[0m\u001b[0;34m(\u001b[0m\u001b[0;34m)\u001b[0m\u001b[0;34m\u001b[0m\u001b[0;34m\u001b[0m\u001b[0m\n\u001b[1;32m   1551\u001b[0m     \u001b[0;32mif\u001b[0m \u001b[0mcancellation_context\u001b[0m \u001b[0;32mis\u001b[0m \u001b[0;32mNone\u001b[0m\u001b[0;34m:\u001b[0m\u001b[0;34m\u001b[0m\u001b[0;34m\u001b[0m\u001b[0m\n\u001b[0;32m-> 1552\u001b[0;31m       outputs = execute.execute(\n\u001b[0m\u001b[1;32m   1553\u001b[0m           \u001b[0mname\u001b[0m\u001b[0;34m.\u001b[0m\u001b[0mdecode\u001b[0m\u001b[0;34m(\u001b[0m\u001b[0;34m\"utf-8\"\u001b[0m\u001b[0;34m)\u001b[0m\u001b[0;34m,\u001b[0m\u001b[0;34m\u001b[0m\u001b[0;34m\u001b[0m\u001b[0m\n\u001b[1;32m   1554\u001b[0m           \u001b[0mnum_outputs\u001b[0m\u001b[0;34m=\u001b[0m\u001b[0mnum_outputs\u001b[0m\u001b[0;34m,\u001b[0m\u001b[0;34m\u001b[0m\u001b[0;34m\u001b[0m\u001b[0m\n",
            "\u001b[0;32m/usr/local/lib/python3.10/dist-packages/tensorflow/python/eager/execute.py\u001b[0m in \u001b[0;36mquick_execute\u001b[0;34m(op_name, num_outputs, inputs, attrs, ctx, name)\u001b[0m\n\u001b[1;32m     51\u001b[0m   \u001b[0;32mtry\u001b[0m\u001b[0;34m:\u001b[0m\u001b[0;34m\u001b[0m\u001b[0;34m\u001b[0m\u001b[0m\n\u001b[1;32m     52\u001b[0m     \u001b[0mctx\u001b[0m\u001b[0;34m.\u001b[0m\u001b[0mensure_initialized\u001b[0m\u001b[0;34m(\u001b[0m\u001b[0;34m)\u001b[0m\u001b[0;34m\u001b[0m\u001b[0;34m\u001b[0m\u001b[0m\n\u001b[0;32m---> 53\u001b[0;31m     tensors = pywrap_tfe.TFE_Py_Execute(ctx._handle, device_name, op_name,\n\u001b[0m\u001b[1;32m     54\u001b[0m                                         inputs, attrs, num_outputs)\n\u001b[1;32m     55\u001b[0m   \u001b[0;32mexcept\u001b[0m \u001b[0mcore\u001b[0m\u001b[0;34m.\u001b[0m\u001b[0m_NotOkStatusException\u001b[0m \u001b[0;32mas\u001b[0m \u001b[0me\u001b[0m\u001b[0;34m:\u001b[0m\u001b[0;34m\u001b[0m\u001b[0;34m\u001b[0m\u001b[0m\n",
            "\u001b[0;31mKeyboardInterrupt\u001b[0m: "
          ]
        }
      ],
      "source": [
        "start = 1\n",
        "end = start+100\n",
        "batchsize = 1\n",
        "batches = 100\n",
        "x_Square = x_test[start:end].numpy()\n",
        "for i in tqdm(range(batches), desc = \"[PLEASE WAIT: PREPARE SOME TEA]\"):\n",
        "  x_Square[i] = square_attack_wrong(control, tf.expand_dims(x_Square[i],axis=0), (1, 32, 32), tf.expand_dims(y_test[i+start],axis=0))\n",
        "np.save(\"/content/drive/MyDrive/ECE570_PROJECT/squareAttack_images_modded\", x_Square)"
      ]
    },
    {
      "cell_type": "markdown",
      "metadata": {
        "id": "N7XDRTlEzKoR"
      },
      "source": [
        "# LOAD + TEST SQUARE ATTACK\n",
        "\n",
        "We have two versions:\n",
        "\n",
        "- x_square is Square Attack as per Andiuschenko\n",
        "- x_badSquare is Square Attack with slightly relaxed parameters -- this allows it to generate something much more adversarial, but also allows us to make more observations on how adversarial attacks try to work.\n",
        "\n",
        "Both have similar results. However, of note is the C-M."
      ]
    },
    {
      "cell_type": "code",
      "execution_count": null,
      "metadata": {
        "id": "iMTCQXi4yxp_"
      },
      "outputs": [],
      "source": [
        "# Load.\n",
        "x_square = np.load(\"/content/drive/MyDrive/ECE570_PROJECT/squareAttack_images_true.npy\")\n",
        "# Compare with a previously rendered version\n",
        "x_badSquare = np.load(\"/content/drive/MyDrive/ECE570_PROJECT/squareAttack_images_modded.npy\")"
      ]
    },
    {
      "cell_type": "code",
      "execution_count": null,
      "metadata": {
        "colab": {
          "base_uri": "https://localhost:8080/"
        },
        "id": "PO9lg9jVy30C",
        "outputId": "ada5b7d7-fbdd-4a9c-f470-871267e7dcd7"
      },
      "outputs": [
        {
          "output_type": "stream",
          "name": "stdout",
          "text": [
            "\u001b[1m4/4\u001b[0m \u001b[32m━━━━━━━━━━━━━━━━━━━━\u001b[0m\u001b[37m\u001b[0m \u001b[1m0s\u001b[0m 7ms/step - accuracy: 0.9816 - loss: 0.0981 \n"
          ]
        },
        {
          "output_type": "execute_result",
          "data": {
            "text/plain": [
              "[0.11095458269119263, 0.9800000190734863]"
            ]
          },
          "metadata": {},
          "execution_count": 36
        }
      ],
      "source": [
        "start = 1\n",
        "control.evaluate(x_square, y_test[start:start+100])"
      ]
    },
    {
      "cell_type": "code",
      "execution_count": null,
      "metadata": {
        "colab": {
          "base_uri": "https://localhost:8080/"
        },
        "id": "ooz_zTaJJA4p",
        "outputId": "dc2dfbda-6bbc-4de0-9898-3c220555772d"
      },
      "outputs": [
        {
          "output_type": "stream",
          "name": "stdout",
          "text": [
            "\u001b[1m4/4\u001b[0m \u001b[32m━━━━━━━━━━━━━━━━━━━━\u001b[0m\u001b[37m\u001b[0m \u001b[1m0s\u001b[0m 7ms/step - accuracy: 0.0596 - loss: 1.2249 \n"
          ]
        },
        {
          "output_type": "execute_result",
          "data": {
            "text/plain": [
              "[1.1964341402053833, 0.05000000074505806]"
            ]
          },
          "metadata": {},
          "execution_count": 37
        }
      ],
      "source": [
        "start_bad = 1\n",
        "control.evaluate(x_badSquare, y_test[start_bad:start_bad+100])"
      ]
    },
    {
      "cell_type": "code",
      "execution_count": null,
      "metadata": {
        "colab": {
          "base_uri": "https://localhost:8080/",
          "height": 838
        },
        "id": "V_bodcdHy5gy",
        "outputId": "54d5310d-f87d-4853-a4fd-729aa7a70d8e"
      },
      "outputs": [
        {
          "output_type": "stream",
          "name": "stdout",
          "text": [
            "\u001b[1m4/4\u001b[0m \u001b[32m━━━━━━━━━━━━━━━━━━━━\u001b[0m\u001b[37m\u001b[0m \u001b[1m3s\u001b[0m 838ms/step\n"
          ]
        },
        {
          "output_type": "display_data",
          "data": {
            "text/plain": [
              "<Figure size 1000x1000 with 2 Axes>"
            ],
            "image/png": "[encoded data removed]"
          },
          "metadata": {}
        }
      ],
      "source": [
        "y_square = control.predict(x_square)\n",
        "y_square = np.argmax(y_square, axis=1)\n",
        "truelabels = np.argmax(y_test[start:start+100], axis=1)\n",
        "make_confusion_matrix(truelabels, y_square, text_size = 6)"
      ]
    },
    {
      "cell_type": "code",
      "execution_count": null,
      "metadata": {
        "colab": {
          "base_uri": "https://localhost:8080/",
          "height": 838
        },
        "id": "uxIj6pEwzeJt",
        "outputId": "fd42efe6-ebe6-4516-85d3-bf128f9d4261"
      },
      "outputs": [
        {
          "output_type": "stream",
          "name": "stdout",
          "text": [
            "\u001b[1m4/4\u001b[0m \u001b[32m━━━━━━━━━━━━━━━━━━━━\u001b[0m\u001b[37m\u001b[0m \u001b[1m0s\u001b[0m 13ms/step\n"
          ]
        },
        {
          "output_type": "display_data",
          "data": {
            "text/plain": [
              "<Figure size 1000x1000 with 2 Axes>"
            ],
            "image/png": "[encoded data removed]"
          },
          "metadata": {}
        }
      ],
      "source": [
        "y_badSquare = control.predict(x_badSquare)\n",
        "y_badSquare = np.argmax(y_badSquare, axis=1)\n",
        "truelabels = np.argmax(y_test[start:start+100], axis=1)\n",
        "make_confusion_matrix(truelabels, y_badSquare, text_size = 6)"
      ]
    },
    {
      "cell_type": "markdown",
      "metadata": {
        "id": "nKGZyeI0gTAj"
      },
      "source": [
        "# A5/R TRAINING\n",
        "\n",
        "A5/R is very simple -- we essentially train a DNN known as the Robustifier, the process of which is like this:\n",
        "\n",
        "1.  Feed acquired image x through R, obtaining robustified z.\n",
        "2.  z is then subject to an adversarial attack, creating w.\n",
        "3.  We run classifier C on input w.\n",
        "\n",
        "The way our black box attack works is that we are trying to \"confuse\" the neural network into believing that they are actually something else by reducing the crossentropy loss of a false label. This comes with a problem -- A5/R wants to train knowing the worst-case attack, which we do not know. What we do know, however, is how to train an AI to determine which way to reduce loss.\n",
        "\n",
        "Crossentropy loss can be seen as increasing when the loss with respect to the predicted, true label increases; therefore, our robustifier must perform an \"adversarial attack\" in order to *reduce* the current loss. This is an adversarial attack used defensively, which exactly fulfills the general idea that A5/R is trying to achieve.\n",
        "\n",
        "While this does require the assumption that a black box attack is trying to deliberately increases the loss of the true label, I believe this is a fair assumption to make for all black boxes, as categorical crossentropy loss is a statistic that should be available.\n",
        "\n",
        "For the training of our robustifier, we may have to make a custom training loop. I am not looking forward to this.\n",
        "\n",
        "https://www.tensorflow.org/tutorials/customization/custom_training_walkthrough\n",
        "\n",
        "Update: I did it, now we need to scale it.\n",
        "\n",
        "Task Difficulty: 4/5\n"
      ]
    },
    {
      "cell_type": "code",
      "execution_count": null,
      "metadata": {
        "colab": {
          "base_uri": "https://localhost:8080/"
        },
        "collapsed": true,
        "id": "zL01hZ8qMMpg",
        "outputId": "15b184c0-ae8c-4d03-a027-1c4cb13dcbcf"
      },
      "outputs": [
        {
          "output_type": "stream",
          "name": "stdout",
          "text": [
            "Requirement already satisfied: keras-nightly in /usr/local/lib/python3.10/dist-packages (3.7.0.dev2024110903)\n",
            "Requirement already satisfied: absl-py in /usr/local/lib/python3.10/dist-packages (from keras-nightly) (1.4.0)\n",
            "Requirement already satisfied: numpy in /usr/local/lib/python3.10/dist-packages (from keras-nightly) (1.26.4)\n",
            "Requirement already satisfied: rich in /usr/local/lib/python3.10/dist-packages (from keras-nightly) (13.9.3)\n",
            "Requirement already satisfied: namex in /usr/local/lib/python3.10/dist-packages (from keras-nightly) (0.0.8)\n",
            "Requirement already satisfied: h5py in /usr/local/lib/python3.10/dist-packages (from keras-nightly) (3.12.1)\n",
            "Requirement already satisfied: optree in /usr/local/lib/python3.10/dist-packages (from keras-nightly) (0.13.0)\n",
            "Requirement already satisfied: ml-dtypes in /usr/local/lib/python3.10/dist-packages (from keras-nightly) (0.4.1)\n",
            "Requirement already satisfied: packaging in /usr/local/lib/python3.10/dist-packages (from keras-nightly) (24.1)\n",
            "Requirement already satisfied: typing-extensions>=4.5.0 in /usr/local/lib/python3.10/dist-packages (from optree->keras-nightly) (4.12.2)\n",
            "Requirement already satisfied: markdown-it-py>=2.2.0 in /usr/local/lib/python3.10/dist-packages (from rich->keras-nightly) (3.0.0)\n",
            "Requirement already satisfied: pygments<3.0.0,>=2.13.0 in /usr/local/lib/python3.10/dist-packages (from rich->keras-nightly) (2.18.0)\n",
            "Requirement already satisfied: mdurl~=0.1 in /usr/local/lib/python3.10/dist-packages (from markdown-it-py>=2.2.0->rich->keras-nightly) (0.1.2)\n"
          ]
        }
      ],
      "source": [
        "!pip3 install keras-nightly"
      ]
    },
    {
      "cell_type": "code",
      "execution_count": null,
      "metadata": {
        "id": "PF1WSvmkgSic"
      },
      "outputs": [],
      "source": [
        "# Quick + Dirty Robustifier\n",
        "# Maybe try\n",
        "import keras\n",
        "\n",
        "tf.random.set_seed(42)\n",
        "\n",
        "input_shape = (32, 32, 1)\n",
        "\n",
        "inputs=keras.layers.Input(shape=input_shape, name = \"Robust_Input\")\n",
        "x = keras.layers.Conv2D(32, kernel_size=3, strides = 1, padding=\"same\")(inputs)\n",
        "x = keras.layers.ReLU()(x)\n",
        "outputs = keras.layers.Conv2D(1, kernel_size=5, strides = 1, padding=\"same\", activation = \"tanh\")(x)\n",
        "\n",
        "robustifier = keras.Model(inputs, outputs)\n",
        "\n",
        "input_shape = (32, 32, 1)\n",
        "\n",
        "inputs=keras.layers.Input(shape=input_shape, name = \"a5_Input\")\n",
        "x = robustifier(inputs)\n",
        "x = keras.layers.Rescaling(0.025)(x)\n",
        "x = keras.layers.add([inputs, x])\n",
        "x = keras.layers.Rescaling(1/1.025)(x)\n",
        "outputs = control(x)\n",
        "\n",
        "a5r = keras.Model(inputs, outputs)\n",
        "\n",
        "a5r.compile(loss = \"categorical_crossentropy\",\n",
        "            optimizer = tf.keras.optimizers.Adam(),\n",
        "            metrics = [\"accuracy\"])"
      ]
    },
    {
      "cell_type": "code",
      "source": [
        "a5r.layers[-1].trainable = False"
      ],
      "metadata": {
        "id": "8pLvwOggprgJ"
      },
      "execution_count": null,
      "outputs": []
    },
    {
      "cell_type": "code",
      "source": [
        "# Fit\n",
        "a5r_h = a5r.fit(x_train_10percent, y_train_10percent,\n",
        "                epochs = 10,\n",
        "                validation_data = (x_valid, y_valid))"
      ],
      "metadata": {
        "colab": {
          "base_uri": "https://localhost:8080/"
        },
        "id": "E9xA9H5npoZY",
        "outputId": "9ef9f199-f2cb-4452-a2fe-f64b0ab60850"
      },
      "execution_count": null,
      "outputs": [
        {
          "output_type": "stream",
          "name": "stdout",
          "text": [
            "Epoch 1/10\n",
            "\u001b[1m188/188\u001b[0m \u001b[32m━━━━━━━━━━━━━━━━━━━━\u001b[0m\u001b[37m\u001b[0m \u001b[1m51s\u001b[0m 141ms/step - accuracy: 0.9337 - loss: 0.2481 - val_accuracy: 0.8700 - val_loss: 0.4429\n",
            "Epoch 2/10\n",
            "\u001b[1m188/188\u001b[0m \u001b[32m━━━━━━━━━━━━━━━━━━━━\u001b[0m\u001b[37m\u001b[0m \u001b[1m2s\u001b[0m 10ms/step - accuracy: 0.9385 - loss: 0.2155 - val_accuracy: 0.8740 - val_loss: 0.4320\n",
            "Epoch 3/10\n",
            "\u001b[1m188/188\u001b[0m \u001b[32m━━━━━━━━━━━━━━━━━━━━\u001b[0m\u001b[37m\u001b[0m \u001b[1m2s\u001b[0m 10ms/step - accuracy: 0.9403 - loss: 0.2036 - val_accuracy: 0.8780 - val_loss: 0.4260\n",
            "Epoch 4/10\n",
            "\u001b[1m188/188\u001b[0m \u001b[32m━━━━━━━━━━━━━━━━━━━━\u001b[0m\u001b[37m\u001b[0m \u001b[1m2s\u001b[0m 10ms/step - accuracy: 0.9418 - loss: 0.2028 - val_accuracy: 0.8780 - val_loss: 0.4239\n",
            "Epoch 5/10\n",
            "\u001b[1m188/188\u001b[0m \u001b[32m━━━━━━━━━━━━━━━━━━━━\u001b[0m\u001b[37m\u001b[0m \u001b[1m2s\u001b[0m 10ms/step - accuracy: 0.9440 - loss: 0.2021 - val_accuracy: 0.8780 - val_loss: 0.4222\n",
            "Epoch 6/10\n",
            "\u001b[1m188/188\u001b[0m \u001b[32m━━━━━━━━━━━━━━━━━━━━\u001b[0m\u001b[37m\u001b[0m \u001b[1m2s\u001b[0m 10ms/step - accuracy: 0.9437 - loss: 0.1926 - val_accuracy: 0.8820 - val_loss: 0.4200\n",
            "Epoch 7/10\n",
            "\u001b[1m188/188\u001b[0m \u001b[32m━━━━━━━━━━━━━━━━━━━━\u001b[0m\u001b[37m\u001b[0m \u001b[1m2s\u001b[0m 10ms/step - accuracy: 0.9434 - loss: 0.1966 - val_accuracy: 0.8820 - val_loss: 0.4181\n",
            "Epoch 8/10\n",
            "\u001b[1m188/188\u001b[0m \u001b[32m━━━━━━━━━━━━━━━━━━━━\u001b[0m\u001b[37m\u001b[0m \u001b[1m2s\u001b[0m 10ms/step - accuracy: 0.9443 - loss: 0.1969 - val_accuracy: 0.8800 - val_loss: 0.4177\n",
            "Epoch 9/10\n",
            "\u001b[1m188/188\u001b[0m \u001b[32m━━━━━━━━━━━━━━━━━━━━\u001b[0m\u001b[37m\u001b[0m \u001b[1m2s\u001b[0m 10ms/step - accuracy: 0.9416 - loss: 0.1969 - val_accuracy: 0.8840 - val_loss: 0.4163\n",
            "Epoch 10/10\n",
            "\u001b[1m188/188\u001b[0m \u001b[32m━━━━━━━━━━━━━━━━━━━━\u001b[0m\u001b[37m\u001b[0m \u001b[1m2s\u001b[0m 10ms/step - accuracy: 0.9428 - loss: 0.1952 - val_accuracy: 0.8820 - val_loss: 0.4149\n"
          ]
        }
      ]
    },
    {
      "cell_type": "code",
      "execution_count": null,
      "metadata": {
        "id": "1mT2gVqENIIw"
      },
      "outputs": [],
      "source": [
        "a5r.save(\"/content/drive/MyDrive/ECE570_PROJECT/a5r.keras\", overwrite=True)\n"
      ]
    },
    {
      "cell_type": "code",
      "execution_count": null,
      "metadata": {
        "id": "KeltTTifNO1U"
      },
      "outputs": [],
      "source": [
        "robustifier.save(\"/content/drive/MyDrive/ECE570_PROJECT/robustifier.keras\", overwrite=True)"
      ]
    },
    {
      "cell_type": "markdown",
      "metadata": {
        "id": "e3D5glvFoxiB"
      },
      "source": [
        "# RUN ROBUST"
      ]
    },
    {
      "cell_type": "code",
      "execution_count": null,
      "metadata": {
        "id": "ePqlbeS9oxFJ"
      },
      "outputs": [],
      "source": [
        "robustifier = tf.keras.models.load_model(\"/content/drive/MyDrive/ECE570_PROJECT/robustifier.keras\")"
      ]
    },
    {
      "cell_type": "code",
      "execution_count": null,
      "metadata": {
        "colab": {
          "base_uri": "https://localhost:8080/"
        },
        "id": "aFWBhZUKPrqW",
        "outputId": "bb19b9f6-b5a4-4fee-a9cb-b19806cf887a"
      },
      "outputs": [
        {
          "output_type": "stream",
          "name": "stdout",
          "text": [
            "\u001b[1m4/4\u001b[0m \u001b[32m━━━━━━━━━━━━━━━━━━━━\u001b[0m\u001b[37m\u001b[0m \u001b[1m0s\u001b[0m 15ms/step\n"
          ]
        }
      ],
      "source": [
        "sample = robustifier.predict(x_test[1:101])"
      ]
    },
    {
      "cell_type": "code",
      "source": [
        "sample.shape"
      ],
      "metadata": {
        "colab": {
          "base_uri": "https://localhost:8080/"
        },
        "id": "NFDe8We96aoA",
        "outputId": "100cbea5-3207-409c-cb3d-85338dc5282e"
      },
      "execution_count": null,
      "outputs": [
        {
          "output_type": "execute_result",
          "data": {
            "text/plain": [
              "(100, 32, 32, 1)"
            ]
          },
          "metadata": {},
          "execution_count": 59
        }
      ]
    },
    {
      "cell_type": "code",
      "source": [
        "sample = tf.squeeze(sample)"
      ],
      "metadata": {
        "id": "-asfRIckP8ga"
      },
      "execution_count": null,
      "outputs": []
    },
    {
      "cell_type": "code",
      "source": [
        "yay = control.evaluate(sample, y_test[1:101])"
      ],
      "metadata": {
        "colab": {
          "base_uri": "https://localhost:8080/"
        },
        "id": "REO0nzLJO89Q",
        "outputId": "7b0bf59c-6142-4061-89f3-c395c2eab78d"
      },
      "execution_count": null,
      "outputs": [
        {
          "output_type": "stream",
          "name": "stdout",
          "text": [
            "\u001b[1m4/4\u001b[0m \u001b[32m━━━━━━━━━━━━━━━━━━━━\u001b[0m\u001b[37m\u001b[0m \u001b[1m0s\u001b[0m 7ms/step - accuracy: 0.4302 - loss: 2.3659 \n"
          ]
        }
      ]
    },
    {
      "cell_type": "code",
      "source": [
        "#gnattack\n",
        "tf.random.set_seed(23)\n",
        "e = 0.1\n",
        "gna = layers.GaussianNoise(e)\n",
        "x_robust = gna(sample)"
      ],
      "metadata": {
        "id": "1ztP322h8HLW"
      },
      "execution_count": null,
      "outputs": []
    },
    {
      "cell_type": "code",
      "source": [
        "control.evaluate(x_gna[1:101], y_test[1:101])"
      ],
      "metadata": {
        "colab": {
          "base_uri": "https://localhost:8080/"
        },
        "id": "AbrgsK538dv9",
        "outputId": "206d9c78-2824-4360-95f6-bbd817ef0da9"
      },
      "execution_count": null,
      "outputs": [
        {
          "output_type": "stream",
          "name": "stdout",
          "text": [
            "\u001b[1m4/4\u001b[0m \u001b[32m━━━━━━━━━━━━━━━━━━━━\u001b[0m\u001b[37m\u001b[0m \u001b[1m1s\u001b[0m 8ms/step - accuracy: 0.9295 - loss: 0.2312  \n"
          ]
        },
        {
          "output_type": "execute_result",
          "data": {
            "text/plain": [
              "[0.26061683893203735, 0.9200000166893005]"
            ]
          },
          "metadata": {},
          "execution_count": 63
        }
      ]
    },
    {
      "cell_type": "code",
      "source": [
        "control.evaluate(sample, y_test[1:101])"
      ],
      "metadata": {
        "colab": {
          "base_uri": "https://localhost:8080/"
        },
        "id": "lrcRo7jR8TQe",
        "outputId": "79142d88-d9ab-4803-d755-f7c3fbf86982"
      },
      "execution_count": null,
      "outputs": [
        {
          "output_type": "stream",
          "name": "stdout",
          "text": [
            "\u001b[1m4/4\u001b[0m \u001b[32m━━━━━━━━━━━━━━━━━━━━\u001b[0m\u001b[37m\u001b[0m \u001b[1m0s\u001b[0m 7ms/step - accuracy: 0.4302 - loss: 2.3659 \n"
          ]
        },
        {
          "output_type": "execute_result",
          "data": {
            "text/plain": [
              "[2.268496513366699, 0.4399999976158142]"
            ]
          },
          "metadata": {},
          "execution_count": 64
        }
      ]
    },
    {
      "cell_type": "markdown",
      "metadata": {
        "id": "5L_3MdMG1IkS"
      },
      "source": [
        "# Open Set Defense Setup\n",
        "\n",
        "I have tried my best to implement OSAD on Tensorflow -- and I officially declare that I don't know what I'm doing.\n",
        "\n",
        "We are not using non-local means, we are instead using the gaussian kernel. Original OSAD uses 32x32, which is an issue for us (224x224) so we have to find a way to reduce 224x224->2x2\n",
        "\n",
        "Update: We just remade everything in 32x32"
      ]
    },
    {
      "cell_type": "code",
      "execution_count": null,
      "metadata": {
        "id": "isibIDc1Xdck"
      },
      "outputs": [],
      "source": [
        "import tensorflow_probability as tfp\n",
        "tfd = tfp.distributions"
      ]
    },
    {
      "cell_type": "code",
      "execution_count": null,
      "metadata": {
        "id": "9uHaxmMBHkPT"
      },
      "outputs": [],
      "source": [
        "def gkern(l=5, sig=1.):\n",
        "    \"\"\"\n",
        "    creates gaussian kernel with side length `l` and a sigma of `sig`\n",
        "    \"\"\"\n",
        "    ax = np.linspace(-(l - 1) / 2., (l - 1) / 2., l)\n",
        "    gauss = np.exp(-0.5 * np.square(ax) / np.square(sig))\n",
        "    kernel = np.outer(gauss, gauss)\n",
        "    return kernel / np.sum(kernel)\n",
        "\n",
        "def gaussian_filter(in_channels, kernel_size = 5, sig = 5):\n",
        "  '''\n",
        "  Returns a proper weights matrix for shenanigans\n",
        "  '''\n",
        "  kernel_weights = gkern(kernel_size, sig)\n",
        "  kernel_weights = np.expand_dims(kernel_weights, axis=-1)\n",
        "  kernel_weights = np.repeat(kernel_weights, in_channels, axis=-1)\n",
        "  kernel_weights = np.expand_dims(kernel_weights, axis=-1)\n",
        "  kernel_weights = np.repeat(kernel_weights, in_channels, axis=-1)\n",
        "  return kernel_weights"
      ]
    },
    {
      "cell_type": "code",
      "execution_count": null,
      "metadata": {
        "id": "FPhyOwbtPS9j"
      },
      "outputs": [],
      "source": [
        "def identity_block(x, filter):\n",
        "  s = x\n",
        "  p = x\n",
        "  # Layer 1\n",
        "  p = tf.keras.layers.Conv2D(filter, 4, padding = 'same')(p)\n",
        "  p = tf.keras.layers.BatchNormalization(axis=3)(p)\n",
        "  p = tf.keras.layers.Activation('relu')(p)\n",
        "  # Layer 2\n",
        "  p = tf.keras.layers.Conv2D(filter, 4, padding='same')(p)\n",
        "  p = tf.keras.layers.BatchNormalization(axis=3)(p)\n",
        "  # Res\n",
        "  s = tf.keras.layers.Conv2D(filter, 1)(s)\n",
        "  end = tf.keras.layers.Add()([s, p])\n",
        "  end = tf.keras.layers.Activation('relu')(end)\n",
        "  return end\n",
        "\n",
        "# Build Encoder\n",
        "input_shape = (32, 32, 1)\n",
        "kernel_size = 5\n",
        "sig = 5\n",
        "\n",
        "inputs=keras.layers.Input(shape=input_shape, name = \"OSAD_Input\")\n",
        "x = tf.keras.layers.Conv2D(64, 3, padding = 'same')(inputs)\n",
        "x = tf.keras.layers.AveragePooling2D(2)(x) # 16\n",
        "x = identity_block(x, 64)\n",
        "x = identity_block(x, 64)\n",
        "x = tf.keras.layers.Conv2D(64, kernel_size, use_bias = 'False', padding='same',\n",
        "                           kernel_initializer=tf.constant_initializer(gaussian_filter(64, 5, 1)),\n",
        "                           name = \"gaussian_filter1\")(x)\n",
        "x = tf.keras.layers.AveragePooling2D(2)(x) # 8\n",
        "x = identity_block(x, 128)\n",
        "x = identity_block(x, 128)\n",
        "x = tf.keras.layers.Conv2D(128, 3, use_bias = 'False', padding='same',\n",
        "                           kernel_initializer=tf.constant_initializer(gaussian_filter(128, 3, 1)),\n",
        "                           name = \"gaussian_filter2\")(x)\n",
        "x = tf.keras.layers.AveragePooling2D(2)(x) # 4\n",
        "x = identity_block(x, 256)\n",
        "x = identity_block(x, 256)\n",
        "x = tf.keras.layers.AveragePooling2D(2)(x) # 2\n",
        "x = identity_block(x, 512)\n",
        "x = identity_block(x, 512)\n",
        "x = tf.keras.layers.GlobalAveragePooling2D()(x) # 1\n",
        "latent = tf.keras.layers.Reshape((512,))(x)\n",
        "\n",
        "encoder = keras.Model(inputs, latent)\n",
        "\n",
        "for layer in encoder.layers:\n",
        "  if layer.name == \"gaussian_filter1\":\n",
        "    layer.trainable = False\n",
        "  if layer.name == \"gaussian_filter2\":\n",
        "    layer.trainable = False\n",
        "  if layer.name == \"gaussian_filter3\":\n",
        "    layer.trainable = False"
      ]
    },
    {
      "cell_type": "code",
      "execution_count": null,
      "metadata": {
        "id": "rFOB04sRV2Hz"
      },
      "outputs": [],
      "source": [
        "# Build Decoder\n",
        "inputs = keras.layers.Input(shape=(512,), name = \"Decoder_Input\")\n",
        "x = tf.keras.layers.Dense(512*2*2)(inputs)\n",
        "x = tf.keras.layers.Reshape((2, 2, 512))(x)\n",
        "x = tf.keras.layers.Conv2DTranspose(512, 4, strides = 2, activation = 'leaky_relu', padding = 'same')(x) # 4x4\n",
        "x = tf.keras.layers.BatchNormalization()(x)\n",
        "x = tf.keras.layers.Conv2DTranspose(256, 4, strides = 2, activation = 'leaky_relu', padding = 'same')(x) # 8x8\n",
        "x = tf.keras.layers.BatchNormalization()(x)\n",
        "x = tf.keras.layers.Conv2DTranspose(128, 4, strides = 2, activation = 'leaky_relu', padding = 'same')(x) # 16x16\n",
        "x = tf.keras.layers.BatchNormalization()(x)\n",
        "x = tf.keras.layers.Conv2DTranspose(1, 4, strides = 2, activation = 'tanh', padding = 'same')(x) # 32x32\n",
        "output = tf.keras.layers.BatchNormalization()(x)\n",
        "\n",
        "decoder = keras.Model(inputs, output)"
      ]
    },
    {
      "cell_type": "code",
      "execution_count": null,
      "metadata": {
        "id": "0leFARd_Kkkk"
      },
      "outputs": [],
      "source": [
        "# but here's the preprocessor\n",
        "data_aug = keras.Sequential([\n",
        "    keras.layers.GaussianNoise(0.1)\n",
        "], name = \"data_augmentation\")"
      ]
    },
    {
      "cell_type": "code",
      "execution_count": null,
      "metadata": {
        "colab": {
          "base_uri": "https://localhost:8080/"
        },
        "id": "ZbNzBBKaHIF2",
        "outputId": "85cb3de8-b1a2-441f-a799-3fa10e27c35f"
      },
      "outputs": [
        {
          "output_type": "stream",
          "name": "stdout",
          "text": [
            "Epoch 1/10\n",
            "\u001b[1m188/188\u001b[0m \u001b[32m━━━━━━━━━━━━━━━━━━━━\u001b[0m\u001b[37m\u001b[0m \u001b[1m56s\u001b[0m 135ms/step - loss: 0.6812 - val_loss: 0.3440\n",
            "Epoch 2/10\n",
            "\u001b[1m188/188\u001b[0m \u001b[32m━━━━━━━━━━━━━━━━━━━━\u001b[0m\u001b[37m\u001b[0m \u001b[1m3s\u001b[0m 18ms/step - loss: 0.4126 - val_loss: 0.2589\n",
            "Epoch 3/10\n",
            "\u001b[1m188/188\u001b[0m \u001b[32m━━━━━━━━━━━━━━━━━━━━\u001b[0m\u001b[37m\u001b[0m \u001b[1m3s\u001b[0m 18ms/step - loss: 0.2537 - val_loss: 0.1800\n",
            "Epoch 4/10\n",
            "\u001b[1m188/188\u001b[0m \u001b[32m━━━━━━━━━━━━━━━━━━━━\u001b[0m\u001b[37m\u001b[0m \u001b[1m3s\u001b[0m 17ms/step - loss: 0.1556 - val_loss: 0.1171\n",
            "Epoch 5/10\n",
            "\u001b[1m188/188\u001b[0m \u001b[32m━━━━━━━━━━━━━━━━━━━━\u001b[0m\u001b[37m\u001b[0m \u001b[1m3s\u001b[0m 17ms/step - loss: 0.0996 - val_loss: 0.0708\n",
            "Epoch 6/10\n",
            "\u001b[1m188/188\u001b[0m \u001b[32m━━━━━━━━━━━━━━━━━━━━\u001b[0m\u001b[37m\u001b[0m \u001b[1m3s\u001b[0m 18ms/step - loss: 0.0708 - val_loss: 0.0550\n",
            "Epoch 7/10\n",
            "\u001b[1m188/188\u001b[0m \u001b[32m━━━━━━━━━━━━━━━━━━━━\u001b[0m\u001b[37m\u001b[0m \u001b[1m3s\u001b[0m 18ms/step - loss: 0.0575 - val_loss: 0.0491\n",
            "Epoch 8/10\n",
            "\u001b[1m188/188\u001b[0m \u001b[32m━━━━━━━━━━━━━━━━━━━━\u001b[0m\u001b[37m\u001b[0m \u001b[1m3s\u001b[0m 18ms/step - loss: 0.0521 - val_loss: 0.0521\n",
            "Epoch 9/10\n",
            "\u001b[1m188/188\u001b[0m \u001b[32m━━━━━━━━━━━━━━━━━━━━\u001b[0m\u001b[37m\u001b[0m \u001b[1m3s\u001b[0m 18ms/step - loss: 0.0502 - val_loss: 0.0461\n",
            "Epoch 10/10\n",
            "\u001b[1m188/188\u001b[0m \u001b[32m━━━━━━━━━━━━━━━━━━━━\u001b[0m\u001b[37m\u001b[0m \u001b[1m3s\u001b[0m 18ms/step - loss: 0.0495 - val_loss: 0.0485\n"
          ]
        }
      ],
      "source": [
        "input_shape = (32, 32, 1)\n",
        "inputs=keras.layers.Input(shape=input_shape, name = \"Noisy_input\")\n",
        "x = data_aug(inputs)\n",
        "x = encoder(x)\n",
        "outputs = decoder(x)\n",
        "\n",
        "osad = keras.Model(inputs, outputs)\n",
        "\n",
        "osad.compile(loss = \"mse\",\n",
        "            optimizer = tf.keras.optimizers.Adam())\n",
        "\n",
        "# Fit\n",
        "osad_h = osad.fit(x_train_10percent, x_train_10percent,\n",
        "                epochs = 10,\n",
        "                validation_data = (x_valid, x_valid))"
      ]
    },
    {
      "cell_type": "code",
      "source": [
        "osad_h = osad.fit(x_train, x_train,\n",
        "                epochs = 4,\n",
        "                validation_data = (x_valid, x_valid))"
      ],
      "metadata": {
        "colab": {
          "base_uri": "https://localhost:8080/"
        },
        "id": "8bCPRAoxYrv1",
        "outputId": "ea7cbbb9-d01c-47b7-c277-1444e290ca7d"
      },
      "execution_count": null,
      "outputs": [
        {
          "output_type": "stream",
          "name": "stdout",
          "text": [
            "Epoch 1/4\n",
            "\u001b[1m1875/1875\u001b[0m \u001b[32m━━━━━━━━━━━━━━━━━━━━\u001b[0m\u001b[37m\u001b[0m \u001b[1m33s\u001b[0m 18ms/step - loss: 0.0494 - val_loss: 0.0533\n",
            "Epoch 2/4\n",
            "\u001b[1m1875/1875\u001b[0m \u001b[32m━━━━━━━━━━━━━━━━━━━━\u001b[0m\u001b[37m\u001b[0m \u001b[1m33s\u001b[0m 18ms/step - loss: 0.0483 - val_loss: 0.0358\n",
            "Epoch 3/4\n",
            "\u001b[1m1875/1875\u001b[0m \u001b[32m━━━━━━━━━━━━━━━━━━━━\u001b[0m\u001b[37m\u001b[0m \u001b[1m34s\u001b[0m 18ms/step - loss: 0.0282 - val_loss: 0.0201\n",
            "Epoch 4/4\n",
            "\u001b[1m1875/1875\u001b[0m \u001b[32m━━━━━━━━━━━━━━━━━━━━\u001b[0m\u001b[37m\u001b[0m \u001b[1m34s\u001b[0m 18ms/step - loss: 0.0153 - val_loss: 0.0114\n"
          ]
        }
      ]
    },
    {
      "cell_type": "code",
      "execution_count": null,
      "metadata": {
        "id": "8yvs4g5mLoAf"
      },
      "outputs": [],
      "source": [
        "encoder.save(\"/content/drive/MyDrive/ECE570_PROJECT/osad_encoder.keras\", overwrite=True)\n",
        "decoder.save(\"/content/drive/MyDrive/ECE570_PROJECT/osad_decoder.keras\", overwrite=True)\n",
        "osad.save(\"/content/drive/MyDrive/ECE570_PROJECT/osad_full.keras\", overwrite=True)"
      ]
    },
    {
      "cell_type": "markdown",
      "source": [
        "# OSAD Load Encoder+Decoder"
      ],
      "metadata": {
        "id": "me4FAMWW_wtO"
      }
    },
    {
      "cell_type": "code",
      "source": [
        "osad_encoder = tf.keras.models.load_model(\"/content/drive/MyDrive/ECE570_PROJECT/osad_encoder.keras\")\n",
        "osad_decoder = tf.keras.models.load_model(\"/content/drive/MyDrive/ECE570_PROJECT/osad_decoder.keras\")\n",
        "osad = tf.keras.models.load_model(\"/content/drive/MyDrive/ECE570_PROJECT/osad_full.keras\")"
      ],
      "metadata": {
        "id": "HtnWXFks_v8n"
      },
      "execution_count": null,
      "outputs": []
    },
    {
      "cell_type": "code",
      "execution_count": null,
      "metadata": {
        "colab": {
          "base_uri": "https://localhost:8080/",
          "height": 465
        },
        "id": "N4BRSO7cTuOA",
        "outputId": "ae85ca24-3d56-41c2-ef69-489c01c5b119"
      },
      "outputs": [
        {
          "output_type": "stream",
          "name": "stdout",
          "text": [
            "\u001b[1m1/1\u001b[0m \u001b[32m━━━━━━━━━━━━━━━━━━━━\u001b[0m\u001b[37m\u001b[0m \u001b[1m0s\u001b[0m 41ms/step\n"
          ]
        },
        {
          "output_type": "execute_result",
          "data": {
            "text/plain": [
              "<matplotlib.image.AxesImage at 0x7bc7ff8cb100>"
            ]
          },
          "metadata": {},
          "execution_count": 60
        },
        {
          "output_type": "display_data",
          "data": {
            "text/plain": [
              "<Figure size 640x480 with 1 Axes>"
            ],
            "image/png": "[encoded data removed]"
          },
          "metadata": {}
        }
      ],
      "source": [
        "exp = osad.predict(tf.expand_dims(tf.expand_dims(x_badSquare[6], axis=0), axis=-1))\n",
        "plt.imshow(tf.squeeze(exp))"
      ]
    },
    {
      "cell_type": "code",
      "source": [
        "plt.imshow(x_square[3])"
      ],
      "metadata": {
        "colab": {
          "base_uri": "https://localhost:8080/",
          "height": 447
        },
        "id": "J-ob0doA_XZG",
        "outputId": "aa264069-9f77-46be-e5fa-a79b33b1ab4b"
      },
      "execution_count": null,
      "outputs": [
        {
          "output_type": "execute_result",
          "data": {
            "text/plain": [
              "<matplotlib.image.AxesImage at 0x7bc7ffc6dc60>"
            ]
          },
          "metadata": {},
          "execution_count": 65
        },
        {
          "output_type": "display_data",
          "data": {
            "text/plain": [
              "<Figure size 640x480 with 1 Axes>"
            ],
            "image/png": "[encoded data removed]"
          },
          "metadata": {}
        }
      ]
    },
    {
      "cell_type": "markdown",
      "source": [
        "# A5 vs Relaxed Square\n",
        "\n",
        "We do not run A5 vs Square Attack, because Square Attack Normal could not be reproduced."
      ],
      "metadata": {
        "id": "4xA4O5W5G3BT"
      }
    },
    {
      "cell_type": "code",
      "source": [
        "x_Criteria = x_test[1:101]\n",
        "y_Criteria = y_test[1:101]\n",
        "x_A5 = robustifier.predict(x_Criteria)\n",
        "x_A5 = tf.squeeze(x_A5)\n",
        "x_A5 = tf.convert_to_tensor(x_A5).numpy()"
      ],
      "metadata": {
        "colab": {
          "base_uri": "https://localhost:8080/",
          "height": 211
        },
        "id": "5L75e_ylG7gY",
        "outputId": "7827e940-8af9-4599-9d83-16180ada4966"
      },
      "execution_count": null,
      "outputs": [
        {
          "output_type": "error",
          "ename": "NameError",
          "evalue": "name 'robustifier' is not defined",
          "traceback": [
            "\u001b[0;31m---------------------------------------------------------------------------\u001b[0m",
            "\u001b[0;31mNameError\u001b[0m                                 Traceback (most recent call last)",
            "\u001b[0;32m<ipython-input-13-2d6492c3d35a>\u001b[0m in \u001b[0;36m<cell line: 3>\u001b[0;34m()\u001b[0m\n\u001b[1;32m      1\u001b[0m \u001b[0mx_Criteria\u001b[0m \u001b[0;34m=\u001b[0m \u001b[0mx_test\u001b[0m\u001b[0;34m[\u001b[0m\u001b[0;36m1\u001b[0m\u001b[0;34m:\u001b[0m\u001b[0;36m101\u001b[0m\u001b[0;34m]\u001b[0m\u001b[0;34m\u001b[0m\u001b[0;34m\u001b[0m\u001b[0m\n\u001b[1;32m      2\u001b[0m \u001b[0my_Criteria\u001b[0m \u001b[0;34m=\u001b[0m \u001b[0my_test\u001b[0m\u001b[0;34m[\u001b[0m\u001b[0;36m1\u001b[0m\u001b[0;34m:\u001b[0m\u001b[0;36m101\u001b[0m\u001b[0;34m]\u001b[0m\u001b[0;34m\u001b[0m\u001b[0;34m\u001b[0m\u001b[0m\n\u001b[0;32m----> 3\u001b[0;31m \u001b[0mx_A5\u001b[0m \u001b[0;34m=\u001b[0m \u001b[0mrobustifier\u001b[0m\u001b[0;34m.\u001b[0m\u001b[0mpredict\u001b[0m\u001b[0;34m(\u001b[0m\u001b[0mx_Criteria\u001b[0m\u001b[0;34m)\u001b[0m\u001b[0;34m\u001b[0m\u001b[0;34m\u001b[0m\u001b[0m\n\u001b[0m\u001b[1;32m      4\u001b[0m \u001b[0mx_A5\u001b[0m \u001b[0;34m=\u001b[0m \u001b[0mtf\u001b[0m\u001b[0;34m.\u001b[0m\u001b[0msqueeze\u001b[0m\u001b[0;34m(\u001b[0m\u001b[0mx_A5\u001b[0m\u001b[0;34m)\u001b[0m\u001b[0;34m\u001b[0m\u001b[0;34m\u001b[0m\u001b[0m\n\u001b[1;32m      5\u001b[0m \u001b[0mx_A5\u001b[0m \u001b[0;34m=\u001b[0m \u001b[0mtf\u001b[0m\u001b[0;34m.\u001b[0m\u001b[0mconvert_to_tensor\u001b[0m\u001b[0;34m(\u001b[0m\u001b[0mx_A5\u001b[0m\u001b[0;34m)\u001b[0m\u001b[0;34m.\u001b[0m\u001b[0mnumpy\u001b[0m\u001b[0;34m(\u001b[0m\u001b[0;34m)\u001b[0m\u001b[0;34m\u001b[0m\u001b[0;34m\u001b[0m\u001b[0m\n",
            "\u001b[0;31mNameError\u001b[0m: name 'robustifier' is not defined"
          ]
        }
      ]
    },
    {
      "cell_type": "code",
      "source": [
        "x_A5.shape, y_Criteria.shape"
      ],
      "metadata": {
        "id": "dfJ_jwQVKXeS"
      },
      "execution_count": null,
      "outputs": []
    },
    {
      "cell_type": "code",
      "source": [
        "from tqdm import tqdm\n",
        "import progressbar\n",
        "tf.random.set_seed(23) # Always 23\n",
        "\n",
        "start = 300\n",
        "end = start+100\n",
        "batchsize = 1\n",
        "batches = 100\n",
        "x_fin = x_A5\n",
        "for i in tqdm(range(batches), desc = \"[PLEASE WAIT: PREPARE SOME TEA]\"):\n",
        "  x_fin[i] = square_attack_wrong(control, tf.expand_dims(x_fin[i],axis=0), (1, 32, 32), tf.expand_dims(y_Criteria[i],axis=0))"
      ],
      "metadata": {
        "colab": {
          "base_uri": "https://localhost:8080/"
        },
        "id": "jbyGnrUqHRkr",
        "outputId": "07c8f112-cf33-4078-e2ff-8b07d7849899"
      },
      "execution_count": null,
      "outputs": [
        {
          "output_type": "stream",
          "name": "stderr",
          "text": [
            "[PLEASE WAIT: PREPARE SOME TEA]: 100%|██████████| 100/100 [4:34:40<00:00, 164.81s/it]\n"
          ]
        }
      ]
    },
    {
      "cell_type": "code",
      "source": [
        "np.save(\"/content/drive/MyDrive/ECE570_PROJECT/A5_vs_Square\", x_fin)"
      ],
      "metadata": {
        "id": "3JmHHw8JZbT7"
      },
      "execution_count": null,
      "outputs": []
    },
    {
      "cell_type": "code",
      "source": [
        "control.evaluate(x_fin, y_Criteria)"
      ],
      "metadata": {
        "id": "khxTgGumLKlb",
        "colab": {
          "base_uri": "https://localhost:8080/"
        },
        "outputId": "f00c0c65-585a-4686-d714-51a7b99a916c"
      },
      "execution_count": null,
      "outputs": [
        {
          "output_type": "stream",
          "name": "stdout",
          "text": [
            "\u001b[1m4/4\u001b[0m \u001b[32m━━━━━━━━━━━━━━━━━━━━\u001b[0m\u001b[37m\u001b[0m \u001b[1m4s\u001b[0m 1s/step - accuracy: 0.1635 - loss: 4.4036\n"
          ]
        },
        {
          "output_type": "execute_result",
          "data": {
            "text/plain": [
              "[4.103626251220703, 0.1899999976158142]"
            ]
          },
          "metadata": {},
          "execution_count": 16
        }
      ]
    },
    {
      "cell_type": "code",
      "source": [
        "x_fin = np.load(\"/content/drive/MyDrive/ECE570_PROJECT/A5_vs_Square.npy\")"
      ],
      "metadata": {
        "id": "IQIOrkUfqzOX"
      },
      "execution_count": null,
      "outputs": []
    },
    {
      "cell_type": "markdown",
      "source": [
        "#"
      ],
      "metadata": {
        "id": "qX-MBi6uNv8R"
      }
    },
    {
      "cell_type": "markdown",
      "source": [
        "# Save All Images For Inspection\n",
        "\n",
        "Saves 100 images each (Test indices 300-399)\n",
        "\n",
        "Relevant Sets:\n",
        "\n",
        "Attackers Only\n",
        "- GNA Only\n",
        "- Square Attack\n",
        "- Square Attack, Relaxed Params\n",
        "\n",
        "A5\n",
        "- A5 Only\n",
        "- A5 -> GNA\n",
        "- A5 -> Relaxed Square Attack\n",
        "\n",
        "OSAD\n",
        "- OSAD Only\n",
        "- GNA -> OSAD\n",
        "- Relaxed Square Attack -> OSAD"
      ],
      "metadata": {
        "id": "OBsyYLk0_FLY"
      }
    },
    {
      "cell_type": "code",
      "source": [
        "x_gnA5 = gna(x_A5, training = False)"
      ],
      "metadata": {
        "colab": {
          "base_uri": "https://localhost:8080/",
          "height": 141
        },
        "id": "dmeAglBaOCaI",
        "outputId": "f095cf12-efb5-4e97-a73f-52300fa40fbb"
      },
      "execution_count": null,
      "outputs": [
        {
          "output_type": "error",
          "ename": "NameError",
          "evalue": "name 'x_A5' is not defined",
          "traceback": [
            "\u001b[0;31m---------------------------------------------------------------------------\u001b[0m",
            "\u001b[0;31mNameError\u001b[0m                                 Traceback (most recent call last)",
            "\u001b[0;32m<ipython-input-28-f3ce0465bd0d>\u001b[0m in \u001b[0;36m<cell line: 1>\u001b[0;34m()\u001b[0m\n\u001b[0;32m----> 1\u001b[0;31m \u001b[0mx_gnA5\u001b[0m \u001b[0;34m=\u001b[0m \u001b[0mgna\u001b[0m\u001b[0;34m(\u001b[0m\u001b[0mx_A5\u001b[0m\u001b[0;34m,\u001b[0m \u001b[0mtraining\u001b[0m \u001b[0;34m=\u001b[0m \u001b[0;32mFalse\u001b[0m\u001b[0;34m)\u001b[0m\u001b[0;34m\u001b[0m\u001b[0;34m\u001b[0m\u001b[0m\n\u001b[0m",
            "\u001b[0;31mNameError\u001b[0m: name 'x_A5' is not defined"
          ]
        }
      ]
    },
    {
      "cell_type": "markdown",
      "source": [
        "OSAD"
      ],
      "metadata": {
        "id": "Uz9ts6iePqwO"
      }
    },
    {
      "cell_type": "code",
      "source": [
        "osad_enc = osad_encoder.predict(x_test[1:101])\n",
        "osad_dec = osad_decoder.predict(osad_enc)\n",
        "osad_dec = tf.squeeze(osad_dec)\n",
        "control.evaluate(osad_dec, y_test[1:101])"
      ],
      "metadata": {
        "colab": {
          "base_uri": "https://localhost:8080/"
        },
        "id": "rcRuri0OPrqa",
        "outputId": "9bde05cc-0523-4710-d099-3e9c0d2b573f"
      },
      "execution_count": null,
      "outputs": [
        {
          "output_type": "stream",
          "name": "stdout",
          "text": [
            "\u001b[1m4/4\u001b[0m \u001b[32m━━━━━━━━━━━━━━━━━━━━\u001b[0m\u001b[37m\u001b[0m \u001b[1m0s\u001b[0m 3ms/step \n",
            "\u001b[1m4/4\u001b[0m \u001b[32m━━━━━━━━━━━━━━━━━━━━\u001b[0m\u001b[37m\u001b[0m \u001b[1m0s\u001b[0m 2ms/step \n",
            "\u001b[1m4/4\u001b[0m \u001b[32m━━━━━━━━━━━━━━━━━━━━\u001b[0m\u001b[37m\u001b[0m \u001b[1m0s\u001b[0m 7ms/step - accuracy: 0.9265 - loss: 0.3039 \n"
          ]
        },
        {
          "output_type": "execute_result",
          "data": {
            "text/plain": [
              "[0.3890050947666168, 0.9100000262260437]"
            ]
          },
          "metadata": {},
          "execution_count": 31
        }
      ]
    },
    {
      "cell_type": "markdown",
      "source": [
        "GNA to OSAD"
      ],
      "metadata": {
        "id": "ZM5ETHVtPx-N"
      }
    },
    {
      "cell_type": "code",
      "source": [
        "gnosad_enc = osad_encoder.predict(x_gna[1:101])\n",
        "gnosad_dec = osad_decoder.predict(gnosad_enc)\n",
        "gnosad_dec = tf.squeeze(gnosad_dec)\n",
        "control.evaluate(gnosad_dec, y_test[1:101])"
      ],
      "metadata": {
        "colab": {
          "base_uri": "https://localhost:8080/"
        },
        "id": "45JyVuk8PxeA",
        "outputId": "e38b34f2-3c85-4b06-a3cb-3ea4ee7bdbb3"
      },
      "execution_count": null,
      "outputs": [
        {
          "output_type": "stream",
          "name": "stdout",
          "text": [
            "\u001b[1m4/4\u001b[0m \u001b[32m━━━━━━━━━━━━━━━━━━━━\u001b[0m\u001b[37m\u001b[0m \u001b[1m0s\u001b[0m 3ms/step \n",
            "\u001b[1m4/4\u001b[0m \u001b[32m━━━━━━━━━━━━━━━━━━━━\u001b[0m\u001b[37m\u001b[0m \u001b[1m0s\u001b[0m 2ms/step \n",
            "\u001b[1m4/4\u001b[0m \u001b[32m━━━━━━━━━━━━━━━━━━━━\u001b[0m\u001b[37m\u001b[0m \u001b[1m0s\u001b[0m 7ms/step - accuracy: 0.9202 - loss: 0.3192 \n"
          ]
        },
        {
          "output_type": "execute_result",
          "data": {
            "text/plain": [
              "[0.3996540904045105, 0.9100000262260437]"
            ]
          },
          "metadata": {},
          "execution_count": 32
        }
      ]
    },
    {
      "cell_type": "markdown",
      "source": [
        "Relaxed Square to OSAD"
      ],
      "metadata": {
        "id": "IqEa5S0Z5ZaM"
      }
    },
    {
      "cell_type": "code",
      "source": [
        "badSquare_OSAD = osad_encoder.predict(x_badSquare)\n",
        "badSquare_OSAD = osad_decoder.predict(badSquare_OSAD)\n",
        "badSquare_OSAD = tf.squeeze(badSquare_OSAD)\n",
        "control.evaluate(badSquare_OSAD, y_test[1:101])"
      ],
      "metadata": {
        "colab": {
          "base_uri": "https://localhost:8080/"
        },
        "id": "o-8u3TfL5Y39",
        "outputId": "708e6ca9-7de8-4c63-d706-8d057b185159"
      },
      "execution_count": null,
      "outputs": [
        {
          "output_type": "stream",
          "name": "stdout",
          "text": [
            "\u001b[1m4/4\u001b[0m \u001b[32m━━━━━━━━━━━━━━━━━━━━\u001b[0m\u001b[37m\u001b[0m \u001b[1m0s\u001b[0m 3ms/step \n",
            "\u001b[1m4/4\u001b[0m \u001b[32m━━━━━━━━━━━━━━━━━━━━\u001b[0m\u001b[37m\u001b[0m \u001b[1m0s\u001b[0m 2ms/step \n",
            "\u001b[1m4/4\u001b[0m \u001b[32m━━━━━━━━━━━━━━━━━━━━\u001b[0m\u001b[37m\u001b[0m \u001b[1m0s\u001b[0m 7ms/step - accuracy: 0.1114 - loss: 6.3470 \n"
          ]
        },
        {
          "output_type": "execute_result",
          "data": {
            "text/plain": [
              "[6.065448760986328, 0.12999999523162842]"
            ]
          },
          "metadata": {},
          "execution_count": 33
        }
      ]
    },
    {
      "cell_type": "code",
      "source": [
        "x_gnaSave = tf.expand_dims(x_gna, axis=-1)\n",
        "x_squaresave = tf.expand_dims(x_square, axis=-1)\n",
        "x_badSquaresave = tf.expand_dims(x_badSquare, axis=-1)\n",
        "#x_A5save = tf.expand_dims(x_A5, axis=-1)\n",
        "#x_gnA5save = tf.expand_dims(x_gnA5, axis=-1)\n",
        "#x_finsave = tf.expand_dims(x_fin, axis=-1)\n",
        "\n",
        "osad_decsave = tf.expand_dims(osad_dec, axis=-1)\n",
        "gnosad_decsave = tf.expand_dims(gnosad_dec, axis=-1)\n",
        "badSquare_OSADsave = tf.expand_dims(badSquare_OSAD, axis=-1)\n",
        "\n",
        "for i in range(100):\n",
        "  tf.keras.utils.save_img(\"/content/drive/MyDrive/ECE570_PROJECT/images/GNA/\"+str(i)+\".png\", x_gnaSave[i+1]) # GNA Only\n",
        "  tf.keras.utils.save_img(\"/content/drive/MyDrive/ECE570_PROJECT/images/Square_Normal/\"+str(i)+\".png\", x_squaresave[i]) # Square Attack\n",
        "  tf.keras.utils.save_img(\"/content/drive/MyDrive/ECE570_PROJECT/images/Square_NonStrict/\"+str(i)+\".png\", x_badSquaresave[i]) # Relaxed Square\n",
        "\n",
        "  #tf.keras.utils.save_img(\"/content/drive/MyDrive/ECE570_PROJECT/images/A5_Encoded/\"+str(i)+\".png\", x_A5save[i]) # A5 Only\n",
        "  #tf.keras.utils.save_img(\"/content/drive/MyDrive/ECE570_PROJECT/images/A5_GNA/\"+str(i)+\".png\", x_gnA5save[i]) # A5 -> GNA\n",
        "  #tf.keras.utils.save_img(\"/content/drive/MyDrive/ECE570_PROJECT/images/A5_Square_NonStrict/\"+str(i)+\".png\", x_finsave[i]) # A5 -> Relaxed Square\n",
        "\n",
        "  tf.keras.utils.save_img(\"/content/drive/MyDrive/ECE570_PROJECT/images/OSAD/\"+str(i)+\".png\", osad_decsave[i]) # OSAD Clean Pipeline\n",
        "  tf.keras.utils.save_img(\"/content/drive/MyDrive/ECE570_PROJECT/images/GNA_OSAD/\"+str(i)+\".png\", gnosad_decsave[i]) # GNA -> OSAD\n",
        "  tf.keras.utils.save_img(\"/content/drive/MyDrive/ECE570_PROJECT/images/Square_NonStrict_OSAD/\"+str(i)+\".png\", badSquare_OSADsave[i]) # Relaxed Square -> OSAD"
      ],
      "metadata": {
        "id": "43icR_O5waeO"
      },
      "execution_count": null,
      "outputs": []
    },
    {
      "cell_type": "code",
      "source": [
        "what = control.predict(tf.expand_dims(osad_dec[19], axis = 0))\n",
        "tf.argmax(what, axis=1)"
      ],
      "metadata": {
        "colab": {
          "base_uri": "https://localhost:8080/"
        },
        "id": "rEYRDHf2-Jxr",
        "outputId": "50514cde-e058-4df1-cc69-1ca3e6978efe"
      },
      "execution_count": null,
      "outputs": [
        {
          "output_type": "stream",
          "name": "stdout",
          "text": [
            "\u001b[1m1/1\u001b[0m \u001b[32m━━━━━━━━━━━━━━━━━━━━\u001b[0m\u001b[37m\u001b[0m \u001b[1m0s\u001b[0m 24ms/step\n"
          ]
        },
        {
          "output_type": "execute_result",
          "data": {
            "text/plain": [
              "<tf.Tensor: shape=(1,), dtype=int64, numpy=array([9])>"
            ]
          },
          "metadata": {},
          "execution_count": 37
        }
      ]
    },
    {
      "cell_type": "code",
      "source": [
        "what = control.predict(tf.expand_dims(gnosad_dec[19], axis = 0))\n",
        "tf.argmax(what, axis=1)"
      ],
      "metadata": {
        "colab": {
          "base_uri": "https://localhost:8080/"
        },
        "id": "0sC4fvLgDnVW",
        "outputId": "46fac538-8efc-4e50-9849-40617516e785"
      },
      "execution_count": null,
      "outputs": [
        {
          "output_type": "stream",
          "name": "stdout",
          "text": [
            "\u001b[1m1/1\u001b[0m \u001b[32m━━━━━━━━━━━━━━━━━━━━\u001b[0m\u001b[37m\u001b[0m \u001b[1m0s\u001b[0m 25ms/step\n"
          ]
        },
        {
          "output_type": "execute_result",
          "data": {
            "text/plain": [
              "<tf.Tensor: shape=(1,), dtype=int64, numpy=array([9])>"
            ]
          },
          "metadata": {},
          "execution_count": 38
        }
      ]
    },
    {
      "cell_type": "code",
      "source": [
        "what = control.predict(tf.expand_dims(badSquare_OSAD[19], axis = 0))\n",
        "tf.argmax(what, axis=1)"
      ],
      "metadata": {
        "colab": {
          "base_uri": "https://localhost:8080/"
        },
        "id": "7OUuTvtrtWVz",
        "outputId": "d1511197-aa03-4a4d-ecea-f79ed0ceb07f"
      },
      "execution_count": null,
      "outputs": [
        {
          "output_type": "stream",
          "name": "stdout",
          "text": [
            "\u001b[1m1/1\u001b[0m \u001b[32m━━━━━━━━━━━━━━━━━━━━\u001b[0m\u001b[37m\u001b[0m \u001b[1m0s\u001b[0m 24ms/step\n"
          ]
        },
        {
          "output_type": "execute_result",
          "data": {
            "text/plain": [
              "<tf.Tensor: shape=(1,), dtype=int64, numpy=array([8])>"
            ]
          },
          "metadata": {},
          "execution_count": 39
        }
      ]
    },
    {
      "cell_type": "code",
      "source": [
        "what  = control.predict(tf.expand_dims(x_badSquare[19], axis = 0))\n",
        "tf.argmax(what, axis=1)"
      ],
      "metadata": {
        "colab": {
          "base_uri": "https://localhost:8080/"
        },
        "id": "thbpg4tMwNnP",
        "outputId": "e05e4ddc-3157-4670-dfa7-4c4421829947"
      },
      "execution_count": null,
      "outputs": [
        {
          "output_type": "stream",
          "name": "stdout",
          "text": [
            "\u001b[1m1/1\u001b[0m \u001b[32m━━━━━━━━━━━━━━━━━━━━\u001b[0m\u001b[37m\u001b[0m \u001b[1m0s\u001b[0m 26ms/step\n"
          ]
        },
        {
          "output_type": "execute_result",
          "data": {
            "text/plain": [
              "<tf.Tensor: shape=(1,), dtype=int64, numpy=array([7])>"
            ]
          },
          "metadata": {},
          "execution_count": 40
        }
      ]
    },
    {
      "cell_type": "code",
      "source": [
        "!pip freeze > requirements.txt"
      ],
      "metadata": {
        "id": "bOVfRms4wPwt"
      },
      "execution_count": null,
      "outputs": []
    },
    {
      "cell_type": "code",
      "source": [],
      "metadata": {
        "id": "BNXUd1I5yuP1"
      },
      "execution_count": null,
      "outputs": []
    }
  ],
  "metadata": {
    "accelerator": "GPU",
    "colab": {
      "collapsed_sections": [
        "QtMrbdPtRbnM",
        "ilLo153kRiLf",
        "jBCVchHwSCdj",
        "MlL-2QuEVuug",
        "F55cT2260mxL",
        "iJY2WMqFbqhR",
        "nKGZyeI0gTAj"
      ],
      "gpuType": "L4",
      "machine_shape": "hm",
      "provenance": []
    },
    "kernelspec": {
      "display_name": "Python 3",
      "name": "python3"
    },
    "language_info": {
      "name": "python"
    }
  },
  "nbformat": 4,
  "nbformat_minor": 0
}